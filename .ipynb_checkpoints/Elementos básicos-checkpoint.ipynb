{
 "cells": [
  {
   "cell_type": "markdown",
   "id": "ec6be4cf",
   "metadata": {},
   "source": [
    "# Notebook de poblaciones: ecuaciones diferenciales.\n",
    "\n",
    "En este notebook se van a hacer todas las prácticas y pruebas del libro de Blanchard y Devaney. "
   ]
  },
  {
   "cell_type": "code",
   "execution_count": 3,
   "id": "18e267e1",
   "metadata": {},
   "outputs": [
    {
     "data": {
      "text/plain": [
       "PyObject <module 'numpy' from '/home/rogve98/.julia/conda/3/lib/python3.9/site-packages/numpy/__init__.py'>"
      ]
     },
     "execution_count": 3,
     "metadata": {},
     "output_type": "execute_result"
    }
   ],
   "source": [
    "using Plots\n",
    "using LaTeXStrings\n",
    "using PyCall\n",
    "\n",
    "np = pyimport(\"numpy\")"
   ]
  },
  {
   "cell_type": "markdown",
   "id": "05888bd2",
   "metadata": {},
   "source": [
    "Para resolver ecuaciones diferenciales de las cuales no tengamos su solución analítica, vamos a utilizar el método de Runge-Kutta orden 4 para tener una solución aproximada."
   ]
  },
  {
   "cell_type": "code",
   "execution_count": 4,
   "id": "1023e369",
   "metadata": {},
   "outputs": [
    {
     "data": {
      "text/plain": [
       "RK4 (generic function with 1 method)"
      ]
     },
     "execution_count": 4,
     "metadata": {},
     "output_type": "execute_result"
    }
   ],
   "source": [
    "\"\"\"RK4\n",
    "\n",
    "Runge-Kutta 4. Es un integrador para resolver sistemas de ecuaciones diferenciales aunque\n",
    "probablemente también pueda resolver ecuaciones diferenciales normales.\n",
    "\n",
    "Parámetros:\n",
    "\n",
    "f := función de variables Real\n",
    "x0 := condiciones iniciales del sistema dinámico\n",
    "t0 := tiempo inicial\n",
    "tf := tiempo final\n",
    "h := paso de integración\n",
    "\"\"\"\n",
    "\n",
    "function RK4(f,x0,t0,tf,h)\n",
    "    #=al igual que en la función de eulerND, definimos una matriz de dimensión \n",
    "    (número de iteraciones × dimensión del sistema dinámico) como conjunto solución=#\n",
    "    t = range(t0, stop = tf, step = h)\n",
    "    n = length(t)\n",
    "    dim = length(x0)\n",
    "    #lo hacemos en un arreglo de ceros\n",
    "    xs = zeros(n,dim)\n",
    "    #imponemos la condición inicial en el primer renglón\n",
    "    xs[1,:] = x0\n",
    "    #generamos un ciclo for con las iteraciones de runge-kutta de cuarto orden\n",
    "    for i in  2:n\n",
    "        k1 = f(xs[i-1,:])\n",
    "        k2 = f(xs[i-1,:]+(h/2)*k1)\n",
    "        k3 = f(xs[i-1,:]+(h/2)*k2)\n",
    "        k4 = f(xs[i-1,:]+h*k3)\n",
    "        \n",
    "        xs[i,:] = xs[i-1,:] + (h/6)*(k1+2*k2+2*k3+k4)\n",
    "    end\n",
    "    #=regresamos el resultado en una tupla, con los tiempos en la primera entrada y \n",
    "    el conjunto solución en la segunda entrada=#\n",
    "    return (t , xs)\n",
    "end"
   ]
  },
  {
   "cell_type": "markdown",
   "id": "d7d3ea8b",
   "metadata": {},
   "source": [
    "## Modelo logístico de población"
   ]
  },
  {
   "cell_type": "code",
   "execution_count": 18,
   "id": "93ff6fed",
   "metadata": {},
   "outputs": [
    {
     "data": {
      "text/plain": [
       "modeloLogistico (generic function with 1 method)"
      ]
     },
     "execution_count": 18,
     "metadata": {},
     "output_type": "execute_result"
    }
   ],
   "source": [
    "function modeloLogistico(x0,t0,tf,h)\n",
    "    \n",
    "    function P(X)\n",
    "        #vector de una entrada\n",
    "        return [2*(1-X[1]/10)*X[1]]\n",
    "    end\n",
    "    return RK4(P,x0,t0,tf,h)\n",
    "end"
   ]
  },
  {
   "cell_type": "code",
   "execution_count": 77,
   "id": "59caa85e",
   "metadata": {},
   "outputs": [
    {
     "data": {
      "text/plain": [
       "(0.0:0.01:10.0, [-0.1; -0.10204074759822226; … ; -Inf; -Inf;;])"
      ]
     },
     "execution_count": 77,
     "metadata": {},
     "output_type": "execute_result"
    }
   ],
   "source": [
    "x0 = [0.1]\n",
    "x1 = [17]\n",
    "x2 = [-0.1]\n",
    "t , sol0 = modeloLogistico(x0,0,10,0.01)\n",
    "t , sol1 = modeloLogistico(x1,0,10,0.01)\n",
    "t , sol2 = modeloLogistico(x2,0,10,0.01)"
   ]
  },
  {
   "cell_type": "code",
   "execution_count": 86,
   "id": "e323046e",
   "metadata": {},
   "outputs": [],
   "source": [
    "plot(t,sol0,w=2,label = L\"Condición inicial $P_0<N$\", title=\"Solución de la ecuación logística\",\n",
    "xlabel  = \"Tiempo\", ylabel = L\"P(t)\",ylims = [-10,17])\n",
    "plot!(t,sol1,w=2, label = L\"Condición inicial $P_0>N$\")\n",
    "plot!(t,sol2,w=2,label = L\"Condición inicial $P_0<0$\")\n",
    "hline!([10,0],s=:dash,w=2,color=\"orange\",label=\"Puntos de estabilidad\")\n",
    "hline!([5],s=:dash,w=2,color =\"cyan\",label =\"\")\n",
    "\n",
    "savefig(\"Ecuación logística\")"
   ]
  },
  {
   "cell_type": "code",
   "execution_count": null,
   "id": "7d731db1",
   "metadata": {},
   "outputs": [],
   "source": []
  },
  {
   "cell_type": "code",
   "execution_count": null,
   "id": "13ff86d3",
   "metadata": {},
   "outputs": [],
   "source": []
  }
 ],
 "metadata": {
  "kernelspec": {
   "display_name": "Julia 1.7.2",
   "language": "julia",
   "name": "julia-1.7"
  },
  "language_info": {
   "file_extension": ".jl",
   "mimetype": "application/julia",
   "name": "julia",
   "version": "1.7.2"
  }
 },
 "nbformat": 4,
 "nbformat_minor": 5
}
