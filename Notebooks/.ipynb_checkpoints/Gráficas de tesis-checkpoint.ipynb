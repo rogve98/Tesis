version https://git-lfs.github.com/spec/v1
oid sha256:61bdb75418f0fc1b5d8c10b062d722549018ec1fcd2d24837f75b1248deaf30d
size 210137
