{
 "cells": [
  {
   "cell_type": "markdown",
   "id": "c813dbb2",
   "metadata": {},
   "source": [
    "#  Pruebas"
   ]
  },
  {
   "cell_type": "code",
   "execution_count": null,
   "id": "911309bb",
   "metadata": {},
   "outputs": [],
   "source": [
    "include(\"../Codigo/tesis/main.jl\")"
   ]
  },
  {
   "cell_type": "code",
   "execution_count": 3,
   "id": "7682b19c",
   "metadata": {},
   "outputs": [
    {
     "data": {
      "text/plain": [
       "5-element Vector{String}:\n",
       " \"@\"\n",
       " \"@v#.#\"\n",
       " \"@stdlib\"\n",
       " \"/home/rogve98/Documentos/Tesis/Tesis/Código/Codigo/tesis\"\n",
       " \"/home/rogve98/Documentos/Tesis/Tesis/Código/Codigo/tesis\""
      ]
     },
     "execution_count": 3,
     "metadata": {},
     "output_type": "execute_result"
    }
   ],
   "source": [
    "push!(LOAD_PATH,\"/home/rogve98/Documentos/Tesis/Tesis/Código/Codigo/tesis\")"
   ]
  },
  {
   "cell_type": "code",
   "execution_count": 9,
   "id": "d4582d29",
   "metadata": {},
   "outputs": [],
   "source": [
    "import main"
   ]
  },
  {
   "cell_type": "code",
   "execution_count": 11,
   "id": "54b5f28e",
   "metadata": {},
   "outputs": [
    {
     "name": "stderr",
     "output_type": "stream",
     "text": [
      "WARNING: replacing module main.\n"
     ]
    },
    {
     "ename": "LoadError",
     "evalue": "SystemError: opening file \"/home/rogve98/Documentos/Tesis/Tesis/Código/Notebooks/Integradores.jl\": No existe el archivo o el directorio",
     "output_type": "error",
     "traceback": [
      "SystemError: opening file \"/home/rogve98/Documentos/Tesis/Tesis/Código/Notebooks/Integradores.jl\": No existe el archivo o el directorio",
      "",
      "Stacktrace:",
      "  [1] systemerror(p::String, errno::Int32; extrainfo::Nothing)",
      "    @ Base ./error.jl:176",
      "  [2] #systemerror#80",
      "    @ ./error.jl:175 [inlined]",
      "  [3] systemerror",
      "    @ ./error.jl:175 [inlined]",
      "  [4] open(fname::String; lock::Bool, read::Nothing, write::Nothing, create::Nothing, truncate::Nothing, append::Nothing)",
      "    @ Base ./iostream.jl:293",
      "  [5] open",
      "    @ ./iostream.jl:275 [inlined]",
      "  [6] open(f::Base.var\"#387#388\"{String}, args::String; kwargs::Base.Pairs{Symbol, Union{}, Tuple{}, NamedTuple{(), Tuple{}}})",
      "    @ Base ./io.jl:382",
      "  [7] open",
      "    @ ./io.jl:381 [inlined]",
      "  [8] read",
      "    @ ./io.jl:462 [inlined]",
      "  [9] _include(mapexpr::Function, mod::Module, _path::String)",
      "    @ Base ./loading.jl:1484",
      " [10] include(mod::Module, _path::String)",
      "    @ Base ./Base.jl:419",
      " [11] include(x::String)",
      "    @ Main.main ./In[11]:1",
      " [12] top-level scope",
      "    @ In[11]:18"
     ]
    }
   ],
   "source": [
    "module main\n",
    "    \n",
    "export poblacionesLK,nrMulti,transicion,Parametros,Soluciones\n",
    "\n",
    "using LinearAlgebra\n",
    "#using Plots\n",
    "using LaTeXStrings\n",
    "using Graphs\n",
    "using GraphPlot\n",
    "using Distributions\n",
    "using CSV\n",
    "using DataFrames\n",
    "\n",
    "#plotlyjs()\n",
    "\n",
    "\n",
    "\n",
    "include(\"Integradores.jl\") #Contiene RK4 y eulerND\n",
    "include(\"Redes.jl\") #Contiene todo el material de Redes\n",
    "include(\"Estabilidad.jl\") #Contiene las funciones de estabilidad por punto critico\n",
    "include(\"structs.jl\") #Contiene los structs\n",
    "include(\"Sistema.jl\") #Contiene las funciones del sistema y la transición.\n",
    "\n",
    "\n",
    "end"
   ]
  },
  {
   "cell_type": "code",
   "execution_count": 7,
   "id": "93862c82",
   "metadata": {},
   "outputs": [
    {
     "ename": "LoadError",
     "evalue": "UndefVarError: Parametros not defined",
     "output_type": "error",
     "traceback": [
      "UndefVarError: Parametros not defined",
      "",
      "Stacktrace:",
      " [1] top-level scope",
      "   @ In[7]:11"
     ]
    }
   ],
   "source": [
    "#PARÁMETROS\n",
    "N = 100\n",
    "x0 = ones(N)\n",
    "t0 = 0\n",
    "tf = 50\n",
    "h = 0.01\n",
    "σ = 0.2\n",
    "p = 0.2\n",
    "r = 2*ones(N)\n",
    "K = 5*ones(N)\n",
    "params = Parametros(N::Int,σ::Float64,p::Float64,x0::Vector,t0::Int,tf::Int,h::Float64,r::Vector,K::Vector)"
   ]
  },
  {
   "cell_type": "code",
   "execution_count": null,
   "id": "096556c2",
   "metadata": {},
   "outputs": [],
   "source": [
    "s = poblacionesLK(params)"
   ]
  },
  {
   "cell_type": "code",
   "execution_count": null,
   "id": "f52891b7",
   "metadata": {},
   "outputs": [],
   "source": [
    "gplot(s.g)"
   ]
  },
  {
   "cell_type": "code",
   "execution_count": null,
   "id": "fb008b2e",
   "metadata": {},
   "outputs": [],
   "source": [
    "plot(s.rk4[:,1],s.rk4[:,2])"
   ]
  },
  {
   "cell_type": "code",
   "execution_count": null,
   "id": "38f7d3e1",
   "metadata": {},
   "outputs": [],
   "source": [
    "eigvals()"
   ]
  },
  {
   "cell_type": "code",
   "execution_count": null,
   "id": "393d208e",
   "metadata": {},
   "outputs": [],
   "source": [
    "figura = plot()\n",
    "\n",
    "for i in 1:100\n",
    "    plot!(figura, s.t, s.rk4[:,i], label=\"\", w=2)\n",
    "end\n",
    "\n",
    "display(figura)\n"
   ]
  },
  {
   "cell_type": "code",
   "execution_count": null,
   "id": "1a60b76c",
   "metadata": {},
   "outputs": [],
   "source": []
  }
 ],
 "metadata": {
  "kernelspec": {
   "display_name": "Julia 1.8.5",
   "language": "julia",
   "name": "julia-1.8"
  },
  "language_info": {
   "file_extension": ".jl",
   "mimetype": "application/julia",
   "name": "julia",
   "version": "1.8.5"
  }
 },
 "nbformat": 4,
 "nbformat_minor": 5
}
