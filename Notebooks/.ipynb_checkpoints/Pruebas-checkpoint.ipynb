{
 "cells": [
  {
   "cell_type": "markdown",
   "id": "c813dbb2",
   "metadata": {},
   "source": [
    "#  Pruebas"
   ]
  },
  {
   "cell_type": "code",
   "execution_count": 1,
   "id": "78df05f0",
   "metadata": {},
   "outputs": [
    {
     "data": {
      "application/vnd.webio.node+json": {
       "children": [],
       "instanceArgs": {
        "namespace": "html",
        "tag": "div"
       },
       "nodeType": "DOM",
       "props": {},
       "type": "node"
      },
      "text/html": [
       "<div style=\"padding: 1em; background-color: #f8d6da; border: 1px solid #f5c6cb; font-weight: bold;\">\n",
       "<p>The WebIO Jupyter extension was not detected. See the\n",
       "<a href=\"https://juliagizmos.github.io/WebIO.jl/latest/providers/ijulia/\" target=\"_blank\">\n",
       "    WebIO Jupyter integration documentation\n",
       "</a>\n",
       "for more information.\n",
       "</div>\n"
      ],
      "text/plain": [
       "WebIO._IJuliaInit()"
      ]
     },
     "metadata": {},
     "output_type": "display_data"
    },
    {
     "data": {
      "text/plain": [
       "circulo (generic function with 1 method)"
      ]
     },
     "execution_count": 1,
     "metadata": {},
     "output_type": "execute_result"
    }
   ],
   "source": [
    "include(\"../Codigo/tesis/main.jl\")"
   ]
  },
  {
   "cell_type": "markdown",
   "id": "415bce5a",
   "metadata": {},
   "source": [
    "push!(LOAD_PATH,\"/home/rogve98/Documentos/Tesis/Tesis/Código/Codigo/tesis\")"
   ]
  },
  {
   "cell_type": "markdown",
   "id": "085b9ac6",
   "metadata": {},
   "source": [
    "import main"
   ]
  },
  {
   "cell_type": "code",
   "execution_count": 2,
   "id": "93862c82",
   "metadata": {},
   "outputs": [
    {
     "data": {
      "text/plain": [
       "Parametros(100, 0.2, 0.2, [1.0, 1.0, 1.0, 1.0, 1.0, 1.0, 1.0, 1.0, 1.0, 1.0  …  1.0, 1.0, 1.0, 1.0, 1.0, 1.0, 1.0, 1.0, 1.0, 1.0], 0, 50, 0.01, [2.0, 2.0, 2.0, 2.0, 2.0, 2.0, 2.0, 2.0, 2.0, 2.0  …  2.0, 2.0, 2.0, 2.0, 2.0, 2.0, 2.0, 2.0, 2.0, 2.0], [5.0, 5.0, 5.0, 5.0, 5.0, 5.0, 5.0, 5.0, 5.0, 5.0  …  5.0, 5.0, 5.0, 5.0, 5.0, 5.0, 5.0, 5.0, 5.0, 5.0])"
      ]
     },
     "execution_count": 2,
     "metadata": {},
     "output_type": "execute_result"
    }
   ],
   "source": [
    "#PARÁMETROS\n",
    "N = 100\n",
    "x0 = ones(N)\n",
    "t0 = 0\n",
    "tf = 50\n",
    "h = 0.01\n",
    "σ = 0.2\n",
    "p = 0.2\n",
    "r = 2*ones(N)\n",
    "K = 5*ones(N)\n",
    "params = Parametros(N::Int,σ::Float64,p::Float64,x0::Vector,t0::Int,tf::Int,h::Float64,r::Vector,K::Vector)"
   ]
  },
  {
   "cell_type": "code",
   "execution_count": 3,
   "id": "096556c2",
   "metadata": {},
   "outputs": [
    {
     "data": {
      "text/plain": [
       "Soluciones(0.0:0.01:50.0, [1.0 1.0 … 1.0 1.0; 1.0125098271411497 1.0197227085703235 … 1.0157548530079403 1.014099468185325; … ; 1.1040881913290675e-12 3.3158437920897565 … 1.8436500664258524 7.831990435331188; 1.0979939019390478e-12 3.315845626627083 … 1.843649973282953 7.83198895211877], [1.0 1.0 … 1.0 1.0; 1.0124883376104286 1.0195540658112061 … 1.015663323194922 1.0140434146442023; … ; 1.0189457207581606e-12 3.3158420482845883 … 1.843672916660846 7.832038785753212; 1.013305883661573e-12 3.315843881122557 … 1.8436728166163456 7.8320372899096125], [1.0 0.0 … 0.0 0.0; 0.0 1.0 … 0.0 0.0; … ; 0.0 0.0 … 1.0 0.0; 0.0 0.0 … 0.0 1.0], SimpleGraph{Int64}(985, [[9, 10, 19, 20, 25, 27, 33, 37, 38, 63, 72, 85, 86, 95, 96], [5, 9, 11, 24, 26, 41, 42, 46, 48, 55, 57, 62, 65, 67, 73, 81, 82, 83, 87], [9, 14, 23, 28, 42, 44, 45, 49, 51, 53, 54, 55, 60, 61, 66, 77, 80, 97], [5, 9, 11, 12, 13, 16, 21, 27, 38, 40  …  56, 60, 69, 70, 71, 81, 84, 87, 97, 100], [2, 4, 8, 10, 15, 21, 39, 41, 46, 47, 48, 51, 53, 54, 76, 87, 90, 91, 94, 100], [15, 26, 27, 35, 40, 46, 47, 50, 57, 77, 78, 79, 80, 84, 85, 89, 90, 92], [12, 22, 24, 26, 29, 53, 54, 57, 60, 64, 70, 81, 82, 93, 94, 97], [5, 18, 25, 26, 30, 34, 39, 46, 53, 68, 70, 72, 78, 84, 90, 95, 98, 100], [1, 2, 3, 4, 10, 16, 21, 25, 32, 35  …  57, 60, 67, 69, 75, 79, 87, 90, 92, 99], [1, 5, 9, 21, 27, 28, 31, 33, 34, 40  …  53, 56, 62, 63, 69, 81, 91, 94, 95, 97]  …  [5, 10, 13, 22, 29, 31, 36, 41, 44, 48  …  63, 64, 65, 75, 79, 89, 92, 93, 95, 98], [6, 9, 17, 23, 29, 37, 38, 42, 48, 54, 60, 63, 66, 67, 77, 80, 88, 91], [7, 11, 18, 24, 43, 44, 45, 46, 49, 59, 74, 83, 85, 91, 97, 100], [5, 7, 10, 11, 14, 17, 22, 28, 29, 30, 49, 59, 63, 75, 78, 83, 84, 88, 89, 95], [1, 8, 10, 30, 33, 39, 40, 41, 43, 51, 59, 60, 63, 65, 66, 74, 91, 94, 99], [1, 19, 24, 29, 37, 41, 56, 59, 60, 68, 69, 70, 71, 75, 80, 83, 85, 89], [3, 4, 7, 10, 11, 16, 18, 32, 41, 45, 47, 53, 60, 65, 72, 75, 79, 85, 86, 93], [8, 12, 18, 23, 24, 42, 48, 56, 61, 64, 67, 73, 79, 85, 91], [9, 11, 23, 27, 28, 34, 35, 40, 42, 46, 57, 66, 70, 71, 73, 75, 76, 90, 95], [4, 5, 8, 12, 21, 22, 25, 27, 33, 35, 38, 42, 54, 57, 70, 71, 73, 78, 89, 93]]))"
      ]
     },
     "execution_count": 3,
     "metadata": {},
     "output_type": "execute_result"
    }
   ],
   "source": [
    "s = poblacionesLK(params)"
   ]
  },
  {
   "cell_type": "code",
   "execution_count": 4,
   "id": "1a60b76c",
   "metadata": {},
   "outputs": [
    {
     "data": {
      "text/plain": [
       "true"
      ]
     },
     "execution_count": 4,
     "metadata": {},
     "output_type": "execute_result"
    }
   ],
   "source": [
    "esEstable(s.rk4)"
   ]
  },
  {
   "cell_type": "code",
   "execution_count": null,
   "id": "fad59759",
   "metadata": {},
   "outputs": [],
   "source": [
    "figura = plot()\n",
    "\n",
    "for i in 1:100\n",
    "    plot!(figura, s.t, s.rk4[:,i], label=\"\")\n",
    "end\n",
    "\n",
    "display(figura)"
   ]
  },
  {
   "cell_type": "code",
   "execution_count": null,
   "id": "064e6547",
   "metadata": {},
   "outputs": [],
   "source": []
  },
  {
   "cell_type": "code",
   "execution_count": null,
   "id": "4779f5ef",
   "metadata": {},
   "outputs": [],
   "source": []
  },
  {
   "cell_type": "code",
   "execution_count": null,
   "id": "e1626087",
   "metadata": {},
   "outputs": [],
   "source": []
  },
  {
   "cell_type": "code",
   "execution_count": null,
   "id": "c251c046",
   "metadata": {},
   "outputs": [],
   "source": []
  },
  {
   "cell_type": "code",
   "execution_count": null,
   "id": "be30b7ea",
   "metadata": {},
   "outputs": [],
   "source": [
    "E = Inteacciones(params,s)"
   ]
  },
  {
   "cell_type": "code",
   "execution_count": null,
   "id": "e6616854",
   "metadata": {},
   "outputs": [],
   "source": [
    "J = Jacobiano(E)"
   ]
  },
  {
   "cell_type": "code",
   "execution_count": null,
   "id": "8dc3413e",
   "metadata": {},
   "outputs": [],
   "source": [
    "ev1 = eigvals(J)"
   ]
  },
  {
   "cell_type": "code",
   "execution_count": null,
   "id": "5841940a",
   "metadata": {},
   "outputs": [],
   "source": [
    "r = sqrt(params.N*params.p)\n",
    "scatter(real(ev1),imag(ev1))\n",
    "plot!(circulo(-7.5,0,7.5),seriestype=:shape,\n",
    "    lw=0.5,\n",
    "    c = :blue,\n",
    "    linecolor = :black,\n",
    "    legend = false,\n",
    "    fillalpha = 0.2,\n",
    "    aspect_ratio = 1\n",
    ")"
   ]
  },
  {
   "cell_type": "code",
   "execution_count": null,
   "id": "e436a67e",
   "metadata": {},
   "outputs": [],
   "source": [
    "M = interacciones(params.N,params.p,params.σ,1)"
   ]
  },
  {
   "cell_type": "code",
   "execution_count": null,
   "id": "1f504a30",
   "metadata": {},
   "outputs": [],
   "source": [
    "p = range(0, stop = 1, length = 50)\n",
    "@time begin \n",
    "    sl = transicion(params::Parametros,p)\n",
    "end"
   ]
  },
  {
   "cell_type": "code",
   "execution_count": null,
   "id": "9aa9533f",
   "metadata": {},
   "outputs": [],
   "source": []
  }
 ],
 "metadata": {
  "kernelspec": {
   "display_name": "Julia 1.8.5",
   "language": "julia",
   "name": "julia-1.8"
  },
  "language_info": {
   "file_extension": ".jl",
   "mimetype": "application/julia",
   "name": "julia",
   "version": "1.8.5"
  }
 },
 "nbformat": 4,
 "nbformat_minor": 5
}
