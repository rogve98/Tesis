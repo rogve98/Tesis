{
 "cells": [
  {
   "cell_type": "markdown",
   "id": "2881a02b",
   "metadata": {},
   "source": [
    "# Avances\n",
    "\n",
    "Se tomará en cuenta un nuevo avance del proyecto de tesis, se va a retomar el trabajo realizado de dinámica no lineal con el sistema de Lotka Volterra para sistemas no lineales; también para el tema de las redes se van a tomar en cuenta dos modelos: el de red aleatoria y el de albert barabasi. La idea es realizar una exploración sobre ambos modelos fusionados con el sistema no lineal. El **objetivo** es observar una transición de fase en función de la estabilidad tomando como referencia modelos híbridos de dinámica no lineal bajo hipótesis de redes aleatorias y redes con independencia de escala.\n",
    "\n",
    "**20 de febrero 2024**\n",
    "Comenzamos con el tema del sistema de competencia de especies (Lotka Volterra)\n",
    "\n",
    "$$\n",
    "\\frac{dx_i}{dt}=r_ix_i\\left(1-\\frac{\\sum_{j=1}^N \\alpha_{ij}x_j}{K_i}\\right)\n",
    "$$\n",
    "\n",
    "Caso particular de $2\\times 2$ con sus ecuaciones desplegadas\n",
    "\n",
    "\\begin{cases}\n",
    "\\dot{x}_1&=r_1x_1(1-\\frac{a_{11}x_1}{k_1}-\\frac{a_{12}x_1x_2}{k_1})\\\\\n",
    "\\dot{x}_2&=r_2x_2(1-\\frac{a_{21}x_2}{k_2}-\\frac{a_{22}x_1x_2}{k_2})\n",
    "\\end{cases}"
   ]
  },
  {
   "cell_type": "code",
   "execution_count": 1,
   "id": "739b63d6",
   "metadata": {},
   "outputs": [
    {
     "data": {
      "application/vnd.webio.node+json": {
       "children": [],
       "instanceArgs": {
        "namespace": "html",
        "tag": "div"
       },
       "nodeType": "DOM",
       "props": {},
       "type": "node"
      },
      "text/html": [
       "<div style=\"padding: 1em; background-color: #f8d6da; border: 1px solid #f5c6cb; font-weight: bold;\">\n",
       "<p>The WebIO Jupyter extension was not detected. See the\n",
       "<a href=\"https://juliagizmos.github.io/WebIO.jl/latest/providers/ijulia/\" target=\"_blank\">\n",
       "    WebIO Jupyter integration documentation\n",
       "</a>\n",
       "for more information.\n",
       "</div>\n"
      ],
      "text/plain": [
       "WebIO._IJuliaInit()"
      ]
     },
     "metadata": {},
     "output_type": "display_data"
    },
    {
     "data": {
      "text/plain": [
       "circulo (generic function with 1 method)"
      ]
     },
     "execution_count": 1,
     "metadata": {},
     "output_type": "execute_result"
    }
   ],
   "source": [
    "include(\"../Codigo/tesis/main.jl\")"
   ]
  },
  {
   "cell_type": "code",
   "execution_count": 12,
   "id": "e893922b",
   "metadata": {},
   "outputs": [
    {
     "data": {
      "text/plain": [
       "Parametros(100, 0.2, 0.4, [1.0, 1.0, 1.0, 1.0, 1.0, 1.0, 1.0, 1.0, 1.0, 1.0  …  1.0, 1.0, 1.0, 1.0, 1.0, 1.0, 1.0, 1.0, 1.0, 1.0], 0, 50, 0.01, [2.0, 2.0, 2.0, 2.0, 2.0, 2.0, 2.0, 2.0, 2.0, 2.0  …  2.0, 2.0, 2.0, 2.0, 2.0, 2.0, 2.0, 2.0, 2.0, 2.0], [5.0, 5.0, 5.0, 5.0, 5.0, 5.0, 5.0, 5.0, 5.0, 5.0  …  5.0, 5.0, 5.0, 5.0, 5.0, 5.0, 5.0, 5.0, 5.0, 5.0])"
      ]
     },
     "execution_count": 12,
     "metadata": {},
     "output_type": "execute_result"
    }
   ],
   "source": [
    "#PARÁMETROS\n",
    "N = 100\n",
    "x0 = ones(N)\n",
    "t0 = 0\n",
    "tf = 50\n",
    "h = 0.01\n",
    "σ = 0.2\n",
    "p = 0.4\n",
    "r = 2*ones(N)\n",
    "K = 5*ones(N)\n",
    "params = Parametros(N::Int,σ::Float64,p::Float64,x0::Vector,t0::Int,tf::Int,h::Float64,r::Vector,K::Vector)"
   ]
  },
  {
   "cell_type": "markdown",
   "id": "74d66b90",
   "metadata": {},
   "source": [
    "De los sistemas Lineales sabemos que forman espacios fases que se desarrollan a partir de los puntos críticos. La estabilidad también depende de estos puntos y estará determinada a partir de las interacciones del sistema. Sabemos que para que $\\dot{x}=A\\vec{x}$ sea estable, los eigenavalores de la matriz de interacciones $A$ deben ser negativos, de otro modo el sistema es inestable.\n",
    "\n",
    "Para el caso de los sistemas no lineales la historia cambia ya que no tenemos una representación matricial del sistema ya que existen términos cuadráticos, sin embargo sigue existiendo una matriz de interacciones $A$ solo que esta matriz solo determina la interacción y su \"fuerza\" de interacción (depende de los coeficientes $\\alpha_{ij}$. Para poder develar la estabilidad del sistema sería necesario linelizarlo, es decir, aplicando el jacobiano para así obtener una matriz que guarde la información del sistema no lineal. Sin embargo esta matriz únicamente proporciona información del punto crítico a estudiar, por lo que el área de análisis es puramente local.\n",
    "\n",
    "A continuación se hará una revisión completa de un sistema de $N=100$ especies estable; las interacciones estan basadas en el modelo de red aleatoria..."
   ]
  },
  {
   "cell_type": "code",
   "execution_count": null,
   "id": "6d2df6fe",
   "metadata": {},
   "outputs": [],
   "source": []
  },
  {
   "cell_type": "code",
   "execution_count": 15,
   "id": "e7e029ed",
   "metadata": {},
   "outputs": [
    {
     "data": {
      "text/plain": [
       "Soluciones(0.0:0.01:50.0, [1.0 1.0 … 1.0 1.0; 1.0156107478574972 1.0096754051155763 … 1.0170540343850638 1.0105455654683844; … ; 5.2696997401490296e-211 0.05365611278824444 … 5.351982375398277 7.125834767794879e-115; 4.7787627198635165e-211 0.05364326508017004 … 5.351981995516634 6.758167701057351e-115], [1.0 1.0 … 1.0 1.0; 1.015557280907463 1.0096889011722123 … 1.0169377720438384 1.010565133085007; … ; 3.971731074139005e-222 0.05366030989761404 … 5.351982210464432 4.793683842365586e-118; 3.583328303042596e-222 0.05364745760176987 … 5.351981830738068 4.539738036476742e-118], [1.0 0.0 … 0.0 0.0; 0.0 1.0 … 0.0 0.0; … ; 0.0 0.0 … 1.0 0.016594600269668636; 0.0 0.0 … 0.24644059589440356 1.0], SimpleGraph{Int64}(1918, [[4, 5, 6, 16, 17, 22, 25, 27, 29, 30  …  76, 78, 80, 81, 82, 84, 85, 92, 95, 98], [6, 7, 10, 16, 17, 18, 22, 23, 25, 27  …  68, 69, 73, 78, 79, 82, 85, 90, 95, 97], [4, 8, 9, 18, 23, 24, 26, 27, 28, 31  …  70, 73, 74, 77, 82, 83, 86, 87, 96, 97], [1, 3, 5, 7, 10, 11, 13, 17, 25, 27  …  68, 73, 74, 80, 82, 83, 84, 90, 93, 96], [1, 4, 11, 12, 13, 19, 20, 21, 23, 24  …  55, 59, 62, 66, 72, 78, 83, 86, 92, 97], [1, 2, 7, 8, 11, 12, 14, 15, 17, 18  …  73, 84, 85, 87, 89, 90, 94, 97, 98, 100], [2, 4, 6, 8, 10, 11, 13, 17, 20, 25  …  68, 72, 80, 81, 82, 85, 87, 89, 95, 97], [3, 6, 7, 13, 14, 15, 17, 19, 24, 26  …  71, 77, 79, 83, 87, 91, 96, 97, 98, 100], [3, 11, 12, 13, 17, 30, 37, 38, 44, 46  …  73, 74, 76, 82, 83, 84, 88, 91, 94, 95], [2, 4, 7, 11, 12, 13, 15, 17, 19, 20  …  80, 85, 86, 87, 90, 92, 95, 98, 99, 100]  …  [8, 9, 13, 14, 16, 20, 21, 22, 24, 27  …  80, 85, 86, 90, 93, 95, 97, 98, 99, 100], [1, 5, 10, 13, 16, 17, 19, 23, 25, 29  …  77, 79, 80, 86, 87, 90, 94, 95, 96, 100], [4, 17, 18, 20, 21, 29, 31, 36, 37, 41  …  76, 79, 80, 83, 87, 89, 90, 91, 95, 97], [6, 9, 11, 12, 13, 15, 17, 19, 23, 28  …  83, 84, 85, 87, 88, 90, 92, 98, 99, 100], [1, 2, 7, 9, 10, 13, 14, 17, 20, 24  …  78, 85, 88, 90, 91, 92, 93, 97, 98, 99], [3, 4, 8, 13, 15, 19, 20, 21, 22, 24  …  55, 70, 81, 84, 87, 90, 92, 97, 98, 99], [2, 3, 5, 6, 7, 8, 13, 14, 15, 17  …  69, 72, 75, 82, 86, 91, 93, 95, 96, 99], [1, 6, 8, 10, 19, 20, 21, 22, 24, 25  …  86, 87, 88, 90, 91, 94, 95, 96, 99, 100], [10, 12, 15, 16, 17, 18, 20, 23, 24, 30  …  79, 80, 84, 91, 94, 95, 96, 97, 98, 100], [6, 8, 10, 13, 17, 21, 22, 24, 28, 32  …  82, 83, 85, 87, 88, 91, 92, 94, 98, 99]]))"
      ]
     },
     "execution_count": 15,
     "metadata": {},
     "output_type": "execute_result"
    }
   ],
   "source": [
    "s = poblacionesLK(params)"
   ]
  },
  {
   "cell_type": "code",
   "execution_count": 16,
   "id": "2dbe952a",
   "metadata": {},
   "outputs": [
    {
     "data": {
      "text/plain": [
       "true"
      ]
     },
     "execution_count": 16,
     "metadata": {},
     "output_type": "execute_result"
    }
   ],
   "source": [
    "esEstable(s.rk4)"
   ]
  },
  {
   "cell_type": "code",
   "execution_count": null,
   "id": "26ba5485",
   "metadata": {},
   "outputs": [],
   "source": [
    "figura = plot()\n",
    "\n",
    "for i in 1:100\n",
    "    plot!(figura, s.t, s.rk4[:,i], label=\"\")\n",
    "end\n",
    "\n",
    "display(figura)"
   ]
  },
  {
   "cell_type": "code",
   "execution_count": null,
   "id": "fd55e72c",
   "metadata": {},
   "outputs": [],
   "source": [
    "E = Interacciones(params,s)"
   ]
  },
  {
   "cell_type": "code",
   "execution_count": null,
   "id": "12c08f54",
   "metadata": {},
   "outputs": [],
   "source": [
    "J = Jacobiano(E)\n",
    "ev = eigvals(J)"
   ]
  },
  {
   "cell_type": "code",
   "execution_count": null,
   "id": "6b52f1a0",
   "metadata": {},
   "outputs": [],
   "source": [
    "scatter(real(ev),imag(ev))"
   ]
  },
  {
   "cell_type": "markdown",
   "id": "3a6a2cc2",
   "metadata": {},
   "source": [
    "## Resultados importantes\n",
    "\n",
    "Se presentan las gráficas de transición con 100 y 50 puntos; faltaría revisar donde se encuentra el punto crítico de la transición."
   ]
  },
  {
   "cell_type": "code",
   "execution_count": null,
   "id": "3afdbfed",
   "metadata": {},
   "outputs": [],
   "source": [
    "s50 = DataFrame(CSV.File(\"datos 02-50 lin.csv\",header=false))\n",
    "s100 = DataFrame(CSV.File(\"Datos 02-100 lin.csv\",header=false))\n",
    "s50 = s50.Column2/1000\n",
    "s100 = s100.Column2"
   ]
  },
  {
   "cell_type": "code",
   "execution_count": null,
   "id": "d0803b24",
   "metadata": {},
   "outputs": [],
   "source": [
    "p50 = range(0 , stop = 1, length = 50)\n",
    "p100 = range(0, stop = 1, length= 100)\n",
    "l = @layout[a b]\n",
    "\n",
    "p1 = plot(p50,s50,title=\"50 Probabilidades\")\n",
    "#scatter!(p50,s50,markersize=2)\n",
    "p2 = plot(p100,s100,title=\"100 Probabilidades\")\n",
    "#scatter!(p100,s100,markersize=2)\n",
    "\n",
    "plot(p1,p2,layout = l,size=(900,400),label=\"\")"
   ]
  },
  {
   "cell_type": "code",
   "execution_count": null,
   "id": "493a38ea",
   "metadata": {},
   "outputs": [],
   "source": []
  },
  {
   "cell_type": "code",
   "execution_count": null,
   "id": "84323bdd",
   "metadata": {},
   "outputs": [],
   "source": []
  },
  {
   "cell_type": "code",
   "execution_count": null,
   "id": "5073620f",
   "metadata": {},
   "outputs": [],
   "source": []
  },
  {
   "cell_type": "code",
   "execution_count": null,
   "id": "fd547485",
   "metadata": {},
   "outputs": [],
   "source": []
  },
  {
   "cell_type": "code",
   "execution_count": null,
   "id": "5d062685",
   "metadata": {},
   "outputs": [],
   "source": [
    "p = range(0, stop = 1, length = 100)\n",
    "@time begin \n",
    "    sl = transicion(params::Parametros,p)\n",
    "end"
   ]
  },
  {
   "cell_type": "code",
   "execution_count": null,
   "id": "17f50055",
   "metadata": {},
   "outputs": [],
   "source": [
    "using DelimitedFiles"
   ]
  },
  {
   "cell_type": "code",
   "execution_count": null,
   "id": "b0a41ed0",
   "metadata": {},
   "outputs": [],
   "source": [
    "writedlm(\"Datos 02-100 lin.csv\",[p s1400])"
   ]
  },
  {
   "cell_type": "code",
   "execution_count": null,
   "id": "baecebb3",
   "metadata": {},
   "outputs": [],
   "source": [
    "s1400 = []\n",
    "for i in 1:100\n",
    "    push!(s1400,s1200[i]+sl[i])\n",
    "end\n",
    "s1400"
   ]
  },
  {
   "cell_type": "code",
   "execution_count": null,
   "id": "dc48da51",
   "metadata": {},
   "outputs": [],
   "source": [
    "plot(p,s1400)\n",
    "#scatter!(p,s1400,markersize = 2)"
   ]
  },
  {
   "cell_type": "code",
   "execution_count": null,
   "id": "6b0bb416",
   "metadata": {},
   "outputs": [],
   "source": []
  }
 ],
 "metadata": {
  "kernelspec": {
   "display_name": "Julia 1.8.5",
   "language": "julia",
   "name": "julia-1.8"
  },
  "language_info": {
   "file_extension": ".jl",
   "mimetype": "application/julia",
   "name": "julia",
   "version": "1.8.5"
  }
 },
 "nbformat": 4,
 "nbformat_minor": 5
}
