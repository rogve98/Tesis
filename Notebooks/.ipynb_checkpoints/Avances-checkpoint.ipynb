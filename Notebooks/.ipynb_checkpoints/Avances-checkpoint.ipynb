{
 "cells": [
  {
   "cell_type": "markdown",
   "id": "2881a02b",
   "metadata": {},
   "source": [
    "# Avances\n",
    "\n",
    "Se tomará en cuenta un nuevo avance del proyecto de tesis, se va a retomar el trabajo realizado de dinámica no lineal con el sistema de Lotka Volterra para sistemas no lineales; también para el tema de las redes se van a tomar en cuenta dos modelos: el de red aleatoria y el de albert barabasi. La idea es realizar una exploración sobre ambos modelos fusionados con el sistema no lineal. El **objetivo** es observar una transición de fase en función de la estabilidad tomando como referencia modelos híbridos de dinámica no lineal bajo hipótesis de redes aleatorias y redes con independencia de escala.\n",
    "\n",
    "**20 de febrero 2024**\n",
    "Comenzamos con el tema del sistema de competencia de especies (Lotka Volterra)\n",
    "\n",
    "$$\n",
    "\\frac{dx_i}{dt}=r_ix_i\\left(1-\\frac{\\sum_{j=1}^N \\alpha_{ij}x_j}{K_i}\\right)\n",
    "$$\n",
    "\n",
    "Caso particular de $2\\times 2$ con sus ecuaciones desplegadas\n",
    "\n",
    "\\begin{cases}\n",
    "\\dot{x}_1&=r_1x_1(1-\\frac{a_{11}x_1}{k_1}-\\frac{a_{12}x_1x_2}{k_1})\\\\\n",
    "\\dot{x}_2&=r_2x_2(1-\\frac{a_{21}x_2}{k_2}-\\frac{a_{22}x_1x_2}{k_2})\n",
    "\\end{cases}"
   ]
  },
  {
   "cell_type": "code",
   "execution_count": null,
   "id": "739b63d6",
   "metadata": {},
   "outputs": [],
   "source": [
    "include(\"../Codigo/tesis/main.jl\")"
   ]
  },
  {
   "cell_type": "code",
   "execution_count": null,
   "id": "e893922b",
   "metadata": {},
   "outputs": [],
   "source": [
    "#PARÁMETROS\n",
    "N = 100\n",
    "x0 = ones(N)\n",
    "t0 = 0\n",
    "tf = 50\n",
    "h = 0.01\n",
    "σ = 0.2\n",
    "p = 0.5\n",
    "r = 2*ones(N)\n",
    "K = 5*ones(N)\n",
    "params = Parametros(N::Int,σ::Float64,p::Float64,x0::Vector,t0::Int,tf::Int,h::Float64,r::Vector,K::Vector)"
   ]
  },
  {
   "cell_type": "markdown",
   "id": "bbbc61a3",
   "metadata": {},
   "source": [
    "`\n",
    "x0 = [0.5383590963132445, 0.4067730095981198]\n",
    "A = [1.0      0.42621;\n",
    " -1.47695  1.0\n",
    " ]\n",
    "`"
   ]
  },
  {
   "cell_type": "raw",
   "id": "eb70c3e6",
   "metadata": {},
   "source": [
    "using CairoMakie\n",
    "f8(X) = Point2(2X[1]*(1-(X[1]+0.42621X[2])/3),2X[2]*(1-(X[2]+1.47695X[1])/3))\n",
    "#f8(X) = Point2(2X[1]*(1-X[1]/2)-X[1]X[2],3X[2]*(1-X[2]/3)-2X[1]X[2])\n",
    "streamplot(f8,0:4,0:4,arrow_size=9)"
   ]
  },
  {
   "cell_type": "code",
   "execution_count": null,
   "id": "bab2512b",
   "metadata": {},
   "outputs": [],
   "source": [
    "#p = 10 .^-range(10, stop = 0, length = 50)\n",
    "p = range(0, stop = 1, length = 50)\n",
    "@time begin \n",
    "    sl = transicion(params::Parametros,p)\n",
    "end"
   ]
  },
  {
   "cell_type": "code",
   "execution_count": null,
   "id": "49959be3",
   "metadata": {},
   "outputs": [],
   "source": [
    "plot(p,sl,label=\"\")\n",
    "#scatter!(p,sl,label=\"\")"
   ]
  },
  {
   "cell_type": "code",
   "execution_count": null,
   "id": "921439f7",
   "metadata": {},
   "outputs": [],
   "source": [
    "using DelimitedFiles"
   ]
  },
  {
   "cell_type": "code",
   "execution_count": null,
   "id": "187cb81f",
   "metadata": {},
   "outputs": [],
   "source": [
    "filename = \"datos maximos 02 lin.csv\"\n",
    "writedlm(filename, sl)"
   ]
  },
  {
   "cell_type": "code",
   "execution_count": null,
   "id": "a7e42772",
   "metadata": {},
   "outputs": [],
   "source": [
    "σ0n = DataFrame(CSV.File(\"datos 02 log.csv\",select=[1],header=false))\n",
    "σ = σ0n.Column1"
   ]
  },
  {
   "cell_type": "code",
   "execution_count": null,
   "id": "6eb54ee4",
   "metadata": {},
   "outputs": [],
   "source": [
    "75*300"
   ]
  },
  {
   "cell_type": "markdown",
   "id": "097ec071",
   "metadata": {},
   "source": [
    "* RK4\n",
    "* EulerND\n",
    "* EnlacesAleatorios\n",
    "* redAleatoria\n",
    "* randomMatrix\n",
    "* poblacionesLK\n",
    "* Jacobiano\n",
    "* sistema\n",
    "* nrMulti\n",
    "* Cicular\n",
    "* barabasiAlbert\n",
    "* prueba\n",
    "* no_es_NaN\n",
    "* esEstable\n",
    "* integrador\n",
    "* transicion\n"
   ]
  },
  {
   "cell_type": "code",
   "execution_count": null,
   "id": "6b82f0f2",
   "metadata": {},
   "outputs": [],
   "source": [
    "253/2"
   ]
  },
  {
   "cell_type": "code",
   "execution_count": null,
   "id": "1425eabf",
   "metadata": {},
   "outputs": [],
   "source": [
    "127*200"
   ]
  },
  {
   "cell_type": "code",
   "execution_count": null,
   "id": "504873aa",
   "metadata": {},
   "outputs": [],
   "source": []
  }
 ],
 "metadata": {
  "kernelspec": {
   "display_name": "Julia 1.8.5",
   "language": "julia",
   "name": "julia-1.8"
  },
  "language_info": {
   "file_extension": ".jl",
   "mimetype": "application/julia",
   "name": "julia",
   "version": "1.8.5"
  }
 },
 "nbformat": 4,
 "nbformat_minor": 5
}
