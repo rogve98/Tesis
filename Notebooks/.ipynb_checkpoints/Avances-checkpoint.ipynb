version https://git-lfs.github.com/spec/v1
oid sha256:40e407ad71a675d21a3c2001638cd9ba51b54e2b727fed74a7e2c26cd252d315
size 3020228
