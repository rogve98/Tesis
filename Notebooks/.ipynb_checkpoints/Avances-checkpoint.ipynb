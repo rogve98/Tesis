version https://git-lfs.github.com/spec/v1
oid sha256:0a4f49b42a90ae6d43bd6b8e2a3e765a1d9bea8304db56cb0fa0c2079b9a8b31
size 2853863
