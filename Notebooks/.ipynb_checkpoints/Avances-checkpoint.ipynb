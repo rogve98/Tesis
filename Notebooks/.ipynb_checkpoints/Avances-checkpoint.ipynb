version https://git-lfs.github.com/spec/v1
oid sha256:ef0a72f610d4cc4a46415827e0fee1b3b93664ac0e5f08b552898aa76f42e104
size 8892518
