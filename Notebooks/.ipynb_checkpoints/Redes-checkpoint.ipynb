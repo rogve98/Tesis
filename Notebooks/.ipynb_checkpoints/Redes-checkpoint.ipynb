version https://git-lfs.github.com/spec/v1
oid sha256:2cdec99aca209cc58075e483ea9e66981c28166cceb4e6d067c04a8f09cf7bd3
size 14210
