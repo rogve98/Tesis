version https://git-lfs.github.com/spec/v1
oid sha256:01153b2cc7ba0ee8497cd73929911612e87779c55d838773cf4e2122189b165a
size 2414668
