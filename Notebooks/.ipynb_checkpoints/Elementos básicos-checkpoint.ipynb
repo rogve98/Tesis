version https://git-lfs.github.com/spec/v1
oid sha256:b3e92412b0196b96cfb03bfe206b38ad8eec8980b48537aac70f763fd5fff242
size 2414010
