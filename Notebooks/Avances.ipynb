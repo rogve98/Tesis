version https://git-lfs.github.com/spec/v1
oid sha256:727f174302ce5ff01c1d3a278ff4a019dae1c0bdf55af910d729600d6f045a22
size 1777918
