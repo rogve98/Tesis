version https://git-lfs.github.com/spec/v1
oid sha256:c8a9bc414291ac7de23a5411dd5916d4818a6638ba4daff8d42608f4be9af1ca
size 802194
