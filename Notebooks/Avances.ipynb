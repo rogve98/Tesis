version https://git-lfs.github.com/spec/v1
oid sha256:51e8a6f0de44e7689f5975de83d83bb1999c3392d3c4c5db0fd5bba5ecc273e8
size 2321953
