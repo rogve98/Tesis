version https://git-lfs.github.com/spec/v1
oid sha256:c63c8fb28eb9e1ffb96c2491d468e98938178d28a935543b70ec1d68f59100cb
size 865796
