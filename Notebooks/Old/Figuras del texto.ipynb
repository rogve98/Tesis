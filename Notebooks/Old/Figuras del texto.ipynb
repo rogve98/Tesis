{
 "cells": [
  {
   "cell_type": "markdown",
   "id": "ef8e1daf",
   "metadata": {},
   "source": [
    "# Notebook para generar las figuras del texto\n",
    "\n"
   ]
  },
  {
   "cell_type": "code",
   "execution_count": 1,
   "id": "b14d480f",
   "metadata": {},
   "outputs": [
    {
     "data": {
      "text/plain": [
       "Plots.GRBackend()"
      ]
     },
     "execution_count": 1,
     "metadata": {},
     "output_type": "execute_result"
    }
   ],
   "source": [
    "using Plots\n",
    "using LaTeXStrings\n",
    "gr()"
   ]
  },
  {
   "cell_type": "code",
   "execution_count": 4,
   "id": "99f949c9",
   "metadata": {},
   "outputs": [
    {
     "data": {
      "text/plain": [
       "\"/home/rogve98/Documentos/Tesis/Tesis/Código/Texto/Imagenes/Crecimiento sin limites.png\""
      ]
     },
     "execution_count": 4,
     "metadata": {},
     "output_type": "execute_result"
    }
   ],
   "source": [
    "P0 = 200\n",
    "xs = range(0, stop = 10, length = 100)\n",
    "ys = [P0*exp(x) for x in xs]\n",
    "plot(xs,ys,title = \"Crecimiento sin límites\",ylim=[0,1E4],\n",
    "    w=2,\n",
    "    xlabel = L\"Tiempo [$t$]\",\n",
    "    ylabel = L\"P(t)\",\n",
    "    label = \"\"\n",
    ")\n",
    "scatter!((0,P0),label = L\"P(0)=P_0\",c=\"lime\")\n",
    "savefig(\"../../Texto/Imagenes/Crecimiento sin limites\")"
   ]
  },
  {
   "cell_type": "code",
   "execution_count": null,
   "id": "cad3cd1c",
   "metadata": {},
   "outputs": [],
   "source": []
  }
 ],
 "metadata": {
  "kernelspec": {
   "display_name": "Julia 1.8.5",
   "language": "julia",
   "name": "julia-1.8"
  },
  "language_info": {
   "file_extension": ".jl",
   "mimetype": "application/julia",
   "name": "julia",
   "version": "1.8.5"
  }
 },
 "nbformat": 4,
 "nbformat_minor": 5
}
