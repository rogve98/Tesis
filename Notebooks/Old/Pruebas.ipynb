version https://git-lfs.github.com/spec/v1
oid sha256:d39f3160ba9a8d7043f2c137e149900b52292161a86f2ae80e7c3df6d3362cbe
size 515886
