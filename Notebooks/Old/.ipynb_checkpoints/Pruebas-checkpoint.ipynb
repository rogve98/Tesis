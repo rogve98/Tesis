{
 "cells": [
  {
   "cell_type": "markdown",
   "id": "5802b400",
   "metadata": {},
   "source": [
    "# Sistema de $N$ especies en competencia.\n",
    "\n",
    "24/agosto/2022\n",
    "\n",
    "Resumen: la idea es generar el primer paso de mi tesis comprobando la ley circular dada por Robert May y extendida por Stefano. El objetivo es generar sistemas de 5 y 10 especies en competencia con valores aleatorios en la matriz de interacciones, y ver si cumple la ley circular.\n",
    "\n",
    "Para ello, de entrada se necesitará que los valores propios de la matriz tengan parte real negativa."
   ]
  },
  {
   "cell_type": "code",
   "execution_count": null,
   "id": "118d966d",
   "metadata": {},
   "outputs": [],
   "source": [
    "using LinearAlgebra\n",
    "using Plots\n",
    "\n",
    "plotlyjs()"
   ]
  },
  {
   "cell_type": "code",
   "execution_count": null,
   "id": "038a9744",
   "metadata": {},
   "outputs": [],
   "source": [
    "\"\"\"RK4\n",
    "\n",
    "Runge-Kutta 4. Es un integrador para resolver sistemas de ecuaciones diferenciales aunque\n",
    "probablemente también pueda resolver ecuaciones diferenciales normales.\n",
    "\n",
    "Parámetros:\n",
    "\n",
    "f := función de variables Real\n",
    "x0 := condiciones iniciales del sistema dinámico\n",
    "t0 := tiempo inicial\n",
    "tf := tiempo final\n",
    "h := paso de integración\n",
    "\"\"\"\n",
    "\n",
    "function RK4(f,x0,t0,tf,h)\n",
    "    #=al igual que en la función de eulerND, definimos una matriz de dimensión \n",
    "    (número de iteraciones × dimensión del sistema dinámico) como conjunto solución=#\n",
    "    t = range(t0, stop = tf, step = h)\n",
    "    n = length(t)\n",
    "    dim = length(x0)\n",
    "    #lo hacemos en un arreglo de ceros\n",
    "    xs = zeros(n,dim)\n",
    "    #imponemos la condición inicial en el primer renglón\n",
    "    xs[1,:] = x0\n",
    "    #generamos un ciclo for con las iteraciones de runge-kutta de cuarto orden\n",
    "    for i in  2:n\n",
    "        k1 = f(xs[i-1,:])\n",
    "        k2 = f(xs[i-1,:]+(h/2)*k1)\n",
    "        k3 = f(xs[i-1,:]+(h/2)*k2)\n",
    "        k4 = f(xs[i-1,:]+h*k3)\n",
    "        \n",
    "        xs[i,:] = xs[i-1,:] + (h/6)*(k1+2*k2+2*k3+k4)\n",
    "    end\n",
    "    #=regresamos el resultado en una tupla, con los tiempos en la primera entrada y \n",
    "    el conjunto solución en la segunda entrada=#\n",
    "    return (t , xs)\n",
    "end\n"
   ]
  },
  {
   "cell_type": "markdown",
   "id": "60b98b23",
   "metadata": {},
   "source": [
    "Utilizar la función `randn()` para generar númeror aleatorios bajo la distribución normal."
   ]
  },
  {
   "cell_type": "code",
   "execution_count": null,
   "id": "780a3fc7",
   "metadata": {},
   "outputs": [],
   "source": [
    "using Random\n",
    "rng = MersenneTwister(1234)\n",
    "randn!(rng, zeros(5,5))"
   ]
  },
  {
   "cell_type": "code",
   "execution_count": null,
   "id": "92f7b424",
   "metadata": {},
   "outputs": [],
   "source": [
    "function hola(X)\n",
    "    A = [rand() rand();rand() rand()]\n",
    "    return A*X\n",
    "end"
   ]
  },
  {
   "cell_type": "code",
   "execution_count": null,
   "id": "ffae3778",
   "metadata": {},
   "outputs": [],
   "source": [
    "hola([1,1])"
   ]
  },
  {
   "cell_type": "code",
   "execution_count": null,
   "id": "c09d3f63",
   "metadata": {},
   "outputs": [],
   "source": [
    "randn(5,5) - Matrix(1I,5,5)\n",
    "#Matrix(1I,5,5)"
   ]
  },
  {
   "cell_type": "markdown",
   "id": "cb4d9af7",
   "metadata": {},
   "source": [
    "### 30 enero 2023"
   ]
  },
  {
   "cell_type": "code",
   "execution_count": null,
   "id": "682993aa",
   "metadata": {},
   "outputs": [],
   "source": [
    "include(\"../Codigo/main.jl\")"
   ]
  },
  {
   "cell_type": "code",
   "execution_count": null,
   "id": "269e8afc",
   "metadata": {},
   "outputs": [],
   "source": [
    "#Red aleatoria\n",
    "M = randomMatrix(5,0.25)\n",
    "display(M)\n",
    "gplot(g,nodelabel = 1:5)"
   ]
  },
  {
   "cell_type": "code",
   "execution_count": null,
   "id": "a4cf5521",
   "metadata": {},
   "outputs": [],
   "source": [
    "x0 = [rand(), rand(), rand(), rand(), rand()]\n",
    "#x0 = [rand(),1]\n",
    "t0 = 0\n",
    "tf = 20\n",
    "dt = 0.1\n",
    "\n",
    "t, sol = cincoEspecies(x0,t0,tf,dt,M)"
   ]
  },
  {
   "cell_type": "code",
   "execution_count": null,
   "id": "275eba9d",
   "metadata": {},
   "outputs": [],
   "source": [
    "plot(t,sol[:,1],label =\"Especie 1\",w=2)\n",
    "\n",
    "plot!(t,sol[:,2],label =\"Especie 2\",w=2)\n",
    "plot!(t,sol[:,3],label =\"Especie 3\",w=2)\n",
    "plot!(t,sol[:,4],label =\"Especie 4\",w=2)\n",
    "plot!(t,sol[:,5],label =\"Especie 5\",w=2)"
   ]
  },
  {
   "cell_type": "code",
   "execution_count": null,
   "id": "5e1b4126",
   "metadata": {},
   "outputs": [],
   "source": [
    "plot(sol[:,1],sol[:,3],w=2,\n",
    "    #xlabel = \"Tiempo\",\n",
    "    xlabel = \"Conejos\",\n",
    "    ylabel = \"Ovejas\",\n",
    "    label = \"\",\n",
    ")"
   ]
  },
  {
   "cell_type": "markdown",
   "id": "df218e18",
   "metadata": {},
   "source": [
    "Encontrar puntos fijos y averiguar si se trata de atractores o repulsores. Aquí mi primera interpretación es que las ovejas ganan y los conejos se extinguen."
   ]
  },
  {
   "cell_type": "markdown",
   "id": "d4b9b559",
   "metadata": {},
   "source": [
    "## 7 de febrero 2022\n",
    "\n",
    "Continuamos con el trabajo revisando fallas de los modelos. Vamos a hacer pruebas para 2 especies y de ahí extenderlo a los otros sistemas."
   ]
  },
  {
   "cell_type": "markdown",
   "id": "980f11be",
   "metadata": {},
   "source": [
    "$$\n",
    "\\frac{dx_i}{dt}=r_ix_i\\left(1-\\frac{\\sum_{j=1}^N \\alpha_{ij}x_j}{K_i}\\right)\n",
    "$$\n",
    "\n",
    "\n",
    "\n"
   ]
  },
  {
   "cell_type": "markdown",
   "id": "fb5b7c32",
   "metadata": {},
   "source": [
    "\\begin{cases}\n",
    "\\dot{x}_1&=r_1x_1(1-\\frac{a_{11}x_1}{k_1}-\\frac{a_{12}x_1x_2}{k_1})\\\\\n",
    "\\dot{x}_2&=r_2x_2(1-\\frac{a_{21}x_2}{k_2}-\\frac{a_{22}x_1x_2}{k_2})\n",
    "\\end{cases}"
   ]
  },
  {
   "cell_type": "code",
   "execution_count": null,
   "id": "2cd792fa",
   "metadata": {},
   "outputs": [],
   "source": [
    "include(\"../Codigo/main.jl\")"
   ]
  },
  {
   "cell_type": "code",
   "execution_count": null,
   "id": "55e7d25a",
   "metadata": {},
   "outputs": [],
   "source": [
    "A,g = randomMatrix(2,0.6)\n",
    "display(A)\n",
    "gplot(g,nodelabel = 1:2)"
   ]
  },
  {
   "cell_type": "code",
   "execution_count": null,
   "id": "95b77f58",
   "metadata": {},
   "outputs": [],
   "source": [
    "x0 = sample(1:0.1:4,2)\n",
    "t0 = 0\n",
    "tf = 20\n",
    "dt = 0.1\n",
    "\n",
    "t, sol = pruebas(x0,t0,tf,dt,A)"
   ]
  },
  {
   "cell_type": "code",
   "execution_count": null,
   "id": "9fa0cfdc",
   "metadata": {},
   "outputs": [],
   "source": [
    "p1 = plot(t,sol[:,1],label =\"Especie 1\",w=2)\n",
    "plot!(t,sol[:,2],label =\"Especie 2\",w=2)\n",
    "\n",
    "p2 = plot(sol[:,1],sol[:,2],w=2,\n",
    "    #xlabel = \"Tiempo\",\n",
    "    xlabel = \"Conejos\",\n",
    "    ylabel = \"Ovejas\",\n",
    "    label = \"\",\n",
    "    xlim = [0,4],\n",
    "    ylim = [0,4]\n",
    ")\n",
    "scatter!((sol[1,1],sol[1,2]),label=\"T=t0\")\n",
    "plot(p1,p2,size=(900,400))"
   ]
  },
  {
   "cell_type": "code",
   "execution_count": null,
   "id": "f3e6faec",
   "metadata": {},
   "outputs": [],
   "source": [
    "r = [2,3]\n",
    "K = [2,3]\n",
    "function prueba(X)\n",
    "    sis = zeros(2)\n",
    "    xs = zeros(2)\n",
    "    for i in 1:2\n",
    "        for j in 1:2\n",
    "            xs[i] += A[i,j]*X[j]\n",
    "        end\n",
    "        sis[i] = r[i]*X[i]*(1-xs[i]/K[i])\n",
    "    end\n",
    "    return xs\n",
    "end"
   ]
  },
  {
   "cell_type": "markdown",
   "id": "e30cda92",
   "metadata": {},
   "source": [
    "# 10 de febrero 2023\n",
    "\n",
    "Ya corregí el sistema, hice la respectiva prueba con un sistema de dos por dos, y encontré varios obstáculos; sobre todo aspectos del sistema que no estaban del todo correctos. Fueron corregidos con base en la función de la celda anterior y a continuación serán implementados en los sistemas de 5 y 10 especies. La idea es que estos sistemas respeten su capacidad de carga."
   ]
  },
  {
   "cell_type": "code",
   "execution_count": null,
   "id": "bf86eb08",
   "metadata": {},
   "outputs": [],
   "source": [
    "include(\"../Codigo/main.jl\")"
   ]
  },
  {
   "cell_type": "markdown",
   "id": "02010099",
   "metadata": {},
   "source": [
    "\\begin{cases}\n",
    "\\dot{x}_1&=0.5x_1(1-\\frac{0.1x_1}{2}-\\frac{0.7x_1x_2}{2})\\\\\n",
    "\\dot{x}_2&=0.7x_2(1-\\frac{2.1x_2}{3}-\\frac{1.2x_1x_2}{1.2}\n",
    "\\end{cases}"
   ]
  },
  {
   "cell_type": "code",
   "execution_count": null,
   "id": "a6992d8a",
   "metadata": {},
   "outputs": [],
   "source": [
    "#A = [r1/k1 r1α/k1;r2β/k2 r2/k2]\n",
    "#A = [0.5 0.7;2.1 1.2]\n",
    "r = [0.3,0.7]\n",
    "K = [2,3]\n",
    "x0 = [1.7,0.4]\n",
    "t0 = 0\n",
    "tf = 50\n",
    "dt = 0.01\n",
    "\n",
    "t, sol = pruebas(x0,t0,tf,dt,r,K)"
   ]
  },
  {
   "cell_type": "code",
   "execution_count": null,
   "id": "25121721",
   "metadata": {},
   "outputs": [],
   "source": [
    "p1 = plot(t,sol[:,1],label =\"\",w=2)\n",
    "plot!(t,sol[:,2],label =\"\",w=2)\n",
    "\n",
    "p2 = plot(sol[:,1],sol[:,2],w=2,\n",
    "    #xlabel = \"Tiempo\",\n",
    "    xlabel = \"Conejos\",\n",
    "    ylabel = \"Ovejas\",\n",
    "    label = \"\",\n",
    "    xlim = [0,4],\n",
    "    ylim = [0,4]\n",
    ")\n",
    "scatter!((sol[1,1],sol[1,2]),label=\"\")\n",
    "plot(p1,p2,size=(900,400))"
   ]
  },
  {
   "cell_type": "code",
   "execution_count": null,
   "id": "888ba82a",
   "metadata": {},
   "outputs": [],
   "source": [
    "function unaEspecie(x0,t0,tf,dt)\n",
    "    r = 0.2\n",
    "    K = 3.\n",
    "    function sistema(X)\n",
    "        return [r*X[1]*(1-X[1]/K)]\n",
    "    end\n",
    "    \n",
    "    return RK4(sistema,x0,t0,tf,dt)\n",
    "end"
   ]
  },
  {
   "cell_type": "code",
   "execution_count": null,
   "id": "714829df",
   "metadata": {},
   "outputs": [],
   "source": [
    "x0 = [1]\n",
    "t0 = 0\n",
    "tf = 20\n",
    "dt = 0.1\n",
    "\n",
    "t, sol = unaEspecie(x0,t0,tf,dt)"
   ]
  },
  {
   "cell_type": "code",
   "execution_count": null,
   "id": "0129c190",
   "metadata": {},
   "outputs": [],
   "source": [
    "plot(t,sol)"
   ]
  },
  {
   "cell_type": "code",
   "execution_count": null,
   "id": "5dfcb0a7",
   "metadata": {},
   "outputs": [],
   "source": [
    "M,g = randomMatrix(5,0.1)\n",
    "display(M)\n",
    "gplot(g,nodelabel = 1:5)"
   ]
  },
  {
   "cell_type": "code",
   "execution_count": null,
   "id": "3aaf3723",
   "metadata": {},
   "outputs": [],
   "source": [
    "x0 = sample(1:0.1:5,5)\n",
    "t0 = 0\n",
    "tf = 20\n",
    "dt = 0.1\n",
    "\n",
    "t, sol5 = cincoEspecies(x0,t0,tf,dt,M)"
   ]
  },
  {
   "cell_type": "code",
   "execution_count": null,
   "id": "e99091fe",
   "metadata": {},
   "outputs": [],
   "source": [
    "plot(t,sol5[:,1],label =\"Especie 1\",w=2,\n",
    "    title = \"5 Especies en competencia\",\n",
    "    xlabel = \"Tiempo\",\n",
    "    ylabel = \"N_(t)\"\n",
    ")\n",
    "plot!(t,sol5[:,2],label =\"Especie 2\",w=2)\n",
    "plot!(t,sol5[:,3],label =\"Especie 3\",w=2)\n",
    "plot!(t,sol5[:,4],label =\"Especie 4\",w=2)\n",
    "plot!(t,sol5[:,5],label =\"Especie 5\",w=2)"
   ]
  },
  {
   "cell_type": "markdown",
   "id": "f942ee50",
   "metadata": {},
   "source": [
    "## 15 de febrero\n",
    "\n",
    "Vamos a intentar corregir el modelo modificando la entrada $a_{ii}$ de la matriz A."
   ]
  },
  {
   "cell_type": "code",
   "execution_count": null,
   "id": "ecef2080",
   "metadata": {},
   "outputs": [],
   "source": [
    "include(\"../Codigo/main.jl\")"
   ]
  },
  {
   "cell_type": "code",
   "execution_count": null,
   "id": "7c79d76a",
   "metadata": {},
   "outputs": [],
   "source": [
    "#A = [r1/k1 r1α/k1;r2β/k2 r2/k2]\n",
    "#A = [0.5 0.7;2.1 1.2]\n",
    "r = [1,1]\n",
    "K = [2,3]\n",
    "x0 = [1.7,0.4]\n",
    "t0 = 0\n",
    "tf = 50\n",
    "dt = 0.01\n",
    "\n",
    "t, sol = pruebas(x0,t0,tf,dt,r,K)"
   ]
  },
  {
   "cell_type": "code",
   "execution_count": null,
   "id": "c900e60b",
   "metadata": {},
   "outputs": [],
   "source": [
    "p1 = plot(t,sol[:,1],label =\"\",w=2)\n",
    "plot!(t,sol[:,2],label =\"\",w=2)\n",
    "\n",
    "p2 = plot(sol[:,1],sol[:,2],w=2,\n",
    "    #xlabel = \"Tiempo\",\n",
    "    xlabel = \"Conejos\",\n",
    "    ylabel = \"Ovejas\",\n",
    "    label = \"\",\n",
    "    xlim = [0,4],\n",
    "    ylim = [0,4]\n",
    ")\n",
    "scatter!((sol[1,1],sol[1,2]),label=\"\")\n",
    "plot(p1,p2,size=(900,400))"
   ]
  },
  {
   "cell_type": "markdown",
   "id": "31c6c889",
   "metadata": {},
   "source": [
    "# 27 de febrero, 2023\n",
    "\n",
    "Regresamos a ver que pez con el código."
   ]
  },
  {
   "cell_type": "code",
   "execution_count": null,
   "id": "0943dca7",
   "metadata": {},
   "outputs": [],
   "source": [
    "include(\"../Codigo/main.jl\")"
   ]
  },
  {
   "cell_type": "code",
   "execution_count": null,
   "id": "be8de636",
   "metadata": {},
   "outputs": [],
   "source": [
    "#A = [r1/k1 r1α/k1;r2β/k2 r2/k2]\n",
    "#A = [0.5 0.7;2.1 1.2]\n",
    "r = [2,3]\n",
    "K = [2,3]\n",
    "x0 = sample(0:0.01:4,2)\n",
    "t0 = 0\n",
    "tf = 50\n",
    "dt = 0.01\n",
    "\n",
    "(t, sol), A = pruebas(x0,t0,tf,dt,r,K)"
   ]
  },
  {
   "cell_type": "code",
   "execution_count": null,
   "id": "53c166c5",
   "metadata": {},
   "outputs": [],
   "source": [
    "p1 = plot(t,sol[:,1],label =\"Especie 1\",w=2)\n",
    "plot!(t,sol[:,2],label =\"Especie 2\",w=2)\n",
    "\n",
    "p2 = plot(sol[:,1],sol[:,2],w=2,\n",
    "    #xlabel = \"Tiempo\",\n",
    "    xlabel = \"Conejos\",\n",
    "    ylabel = \"Ovejas\",\n",
    "    label = \"\",\n",
    "    xlim = [0,4],\n",
    "    ylim = [0,4]\n",
    ")\n",
    "scatter!((sol[1,1],sol[1,2]),label=\"t0\")\n",
    "plot(p1,p2,size=(900,400))"
   ]
  },
  {
   "cell_type": "code",
   "execution_count": null,
   "id": "09e3a4b9",
   "metadata": {},
   "outputs": [],
   "source": [
    "A"
   ]
  },
  {
   "cell_type": "markdown",
   "id": "c6e6d949",
   "metadata": {},
   "source": [
    "¡Lo logré! ya coinciden estas gráficas con el espacio fase que se encuentra en elementos básicos, ahora queda extenderlo a los otros sistemas de más especies, con la intención de que respeten su capacidad de carga."
   ]
  },
  {
   "cell_type": "code",
   "execution_count": null,
   "id": "7db9a456",
   "metadata": {},
   "outputs": [],
   "source": [
    "x0 = rand(5)\n",
    "t0 = 0\n",
    "tf = 50\n",
    "dt = 0.1\n",
    "r = rand(5)\n",
    "K = 2*ones(5)\n",
    "\n",
    "t, sol = cincoEspecies(x0,t0,tf,dt,r,K)"
   ]
  },
  {
   "cell_type": "code",
   "execution_count": null,
   "id": "96e9ba2c",
   "metadata": {},
   "outputs": [],
   "source": [
    "plot(t,sol[:,1],label =\"Especie 1\",w=2)\n",
    "\n",
    "plot!(t,sol[:,2],label =\"Especie 2\",w=2)\n",
    "plot!(t,sol[:,3],label =\"Especie 3\",w=2)\n",
    "plot!(t,sol[:,4],label =\"Especie 4\",w=2)\n",
    "plot!(t,sol[:,5],label =\"Especie 5\",w=2)"
   ]
  },
  {
   "cell_type": "markdown",
   "id": "53bdaa4e",
   "metadata": {},
   "source": [
    "### Ahora ya con la red aleatoria"
   ]
  },
  {
   "cell_type": "code",
   "execution_count": null,
   "id": "446f2791",
   "metadata": {},
   "outputs": [],
   "source": [
    "include(\"../Codigo/main.jl\")"
   ]
  },
  {
   "cell_type": "code",
   "execution_count": null,
   "id": "f26f26d5",
   "metadata": {},
   "outputs": [],
   "source": [
    "x0 = sample(0:0.01:3,5)\n",
    "t0 = 0\n",
    "tf = 50\n",
    "dt = 0.1\n",
    "\n",
    "\n",
    "p = 0.1\n",
    "N = 5\n",
    "#r = [2,3]\n",
    "#K = [2,3]\n",
    "r = 2*ones(N)\n",
    "K = 3*ones(N)\n",
    "\n",
    "params = [N,p,r,K]\n",
    "\n",
    "(t, sol),A = poblacionesLK(x0,t0,tf,dt,params)"
   ]
  },
  {
   "cell_type": "raw",
   "id": "6c629671",
   "metadata": {},
   "source": [
    "p1 = plot(t,sol[:,1],label =\"Especie 1\",w=2)\n",
    "plot!(t,sol[:,2],label =\"Especie 2\",w=2)\n",
    "\n",
    "p2 = plot(sol[:,1],sol[:,2],w=2,\n",
    "    #xlabel = \"Tiempo\",\n",
    "    xlabel = \"Conejos\",\n",
    "    ylabel = \"Ovejas\",\n",
    "    label = \"\",\n",
    "    xlim = [0,4],\n",
    "    ylim = [0,4]\n",
    ")\n",
    "scatter!((sol[1,1],sol[1,2]),label=\"t0\")\n",
    "plot(p1,p2,size=(900,400))"
   ]
  },
  {
   "cell_type": "code",
   "execution_count": null,
   "id": "e3618800",
   "metadata": {},
   "outputs": [],
   "source": [
    "plot(t,sol[:,1],label =\"Especie 1\",w=2)\n",
    "\n",
    "plot!(t,sol[:,2],label =\"Especie 2\",w=2)\n",
    "plot!(t,sol[:,3],label =\"Especie 3\",w=2)\n",
    "plot!(t,sol[:,4],label =\"Especie 4\",w=2)\n",
    "plot!(t,sol[:,5],label =\"Especie 5\",w=2)"
   ]
  },
  {
   "cell_type": "code",
   "execution_count": null,
   "id": "680a179d",
   "metadata": {},
   "outputs": [],
   "source": [
    "display(A)"
   ]
  },
  {
   "cell_type": "markdown",
   "id": "ee8e723e",
   "metadata": {},
   "source": [
    "## 5 de marzo 2023\n",
    "\n",
    "En esta ocasión vamos a visualizar el sistema resultante y sacaremos su jacobiano para determinar la estabilidad del sistema."
   ]
  },
  {
   "cell_type": "code",
   "execution_count": null,
   "id": "77d4cd3e",
   "metadata": {},
   "outputs": [],
   "source": [
    "include(\"../Codigo/main.jl\")"
   ]
  },
  {
   "cell_type": "code",
   "execution_count": null,
   "id": "97871842",
   "metadata": {},
   "outputs": [],
   "source": [
    "display(sistemaLK(A,r,K))"
   ]
  },
  {
   "cell_type": "markdown",
   "id": "1de95551",
   "metadata": {},
   "source": [
    "## 16 de marzo, 2023\n",
    "\n",
    "Definiendo el sistema con base en las entradas aleatorias de la matriz aleatoria."
   ]
  },
  {
   "cell_type": "code",
   "execution_count": null,
   "id": "3d04f8a0",
   "metadata": {},
   "outputs": [],
   "source": [
    "function sistema(X,A) \n",
    "    return  A*X\n",
    "end\n",
    "    \n",
    "    "
   ]
  },
  {
   "cell_type": "code",
   "execution_count": null,
   "id": "aee8065c",
   "metadata": {},
   "outputs": [],
   "source": [
    "sistema(ones(5),A)"
   ]
  },
  {
   "cell_type": "code",
   "execution_count": null,
   "id": "919574b2",
   "metadata": {},
   "outputs": [],
   "source": [
    "A*ones(5)"
   ]
  },
  {
   "cell_type": "code",
   "execution_count": null,
   "id": "33eda9e7",
   "metadata": {},
   "outputs": [],
   "source": [
    "using NLsolve\n",
    "\n",
    "function f!(F, x)\n",
    "    F[1] = (x[1]+3)*(x[2]^3-7)+18\n",
    "    F[2] = sin(x[2]*exp(x[1])-1)\n",
    "end\n",
    "\n",
    "function j!(J, x)\n",
    "    J[1, 1] = x[2]^3-7\n",
    "    J[1, 2] = 3*x[2]^2*(x[1]+3)\n",
    "    u = exp(x[1])*cos(x[2]*exp(x[1])-1)\n",
    "    J[2, 1] = x[2]*u\n",
    "    J[2, 2] = u\n",
    "end\n",
    "\n",
    "nlsolve(f!, j!, [ 0.1; 1.2])"
   ]
  },
  {
   "cell_type": "markdown",
   "id": "dd7f7221",
   "metadata": {},
   "source": [
    "## 23 marzo 2023\n"
   ]
  },
  {
   "cell_type": "code",
   "execution_count": null,
   "id": "620b6880",
   "metadata": {},
   "outputs": [],
   "source": [
    "include(\"../Codigo/main.jl\")"
   ]
  },
  {
   "cell_type": "raw",
   "id": "b05b00d3",
   "metadata": {},
   "source": [
    "M,_=randomMatrix(5,0.65)\n",
    "M"
   ]
  },
  {
   "cell_type": "code",
   "execution_count": null,
   "id": "1f6a15b9",
   "metadata": {},
   "outputs": [],
   "source": [
    "x0 = [ 0.65\n",
    " 1.39\n",
    " 0.95\n",
    " 0.42\n",
    " 3.91]#sample(0:0.01:4,5)\n",
    "#=A = [1.0        0.0      13.5989   -3.28364  0.0;\n",
    " 0.0        1.0       0.0       6.10228  0.0;\n",
    " 0.574493   0.0       1.0       2.74343  0.0;\n",
    " 2.59557   -3.14685  -2.20031   1.0      0.0;\n",
    " 0.0        0.0       0.0       0.0      1.0;\n",
    "]=#\n",
    "t0 = 0\n",
    "tf = 50\n",
    "dt = 0.1\n",
    "\n",
    "p = 0.5\n",
    "N = 5\n",
    "#r = [2,3]\n",
    "#K = [2,3]\n",
    "\n",
    "\n",
    "r = 2*ones(N)\n",
    "K = 3*ones(N)\n",
    "\n",
    "params = [N,p,r,K]\n",
    "(t, sol),(_,solE),A,g = poblacionesLK(x0,t0,tf,dt,params)\n",
    "\n",
    "#(t, sol1),A = pruebas(x0,t0,tf,dt,r,K)"
   ]
  },
  {
   "cell_type": "code",
   "execution_count": null,
   "id": "e8a73ce2",
   "metadata": {},
   "outputs": [],
   "source": [
    "p1 = plot(t,sol[:,1],label =\"Especie 1\",w=2)\n",
    "\n",
    "plot!(t,sol[:,2],label =\"Especie 2\",w=2,title=\"RK4\")\n",
    "plot!(t,sol[:,3],label =\"Especie 3\",w=2)\n",
    "plot!(t,sol[:,4],label =\"Especie 4\",w=2)\n",
    "plot!(t,sol[:,5],label =\"Especie 5\",w=2)\n",
    "#=plot!(t,sol[:,6],label =\"Especie 6\",w=2)\n",
    "plot!(t,sol[:,7],label =\"Especie 7\",w=2)\n",
    "plot!(t,sol[:,8],label =\"Especie 8\",w=2)\n",
    "plot!(t,sol[:,9],label =\"Especie 9\",w=2)\n",
    "plot!(t,sol[:,10],label =\"Especie 10\",w=2)=#\n",
    "\n",
    "p2 = plot(t,solE[:,1],label =\"Especie 1\",w=2,title=\"Euler\")\n",
    "\n",
    "plot!(t,solE[:,2],label =\"Especie 2\",w=2)\n",
    "plot!(t,solE[:,3],label =\"Especie 3\",w=2)\n",
    "plot!(t,solE[:,4],label =\"Especie 4\",w=2)\n",
    "plot!(t,solE[:,5],label =\"Especie 5\",w=2)\n",
    "\n",
    "plot(p1,p2,size=(900, 350))"
   ]
  },
  {
   "cell_type": "code",
   "execution_count": null,
   "id": "dd195cb4",
   "metadata": {},
   "outputs": [],
   "source": [
    "display(A)\n",
    "#gplot(g,nodelabel=1:N)"
   ]
  },
  {
   "cell_type": "code",
   "execution_count": null,
   "id": "23cb6bf0",
   "metadata": {},
   "outputs": [],
   "source": [
    "x0"
   ]
  },
  {
   "cell_type": "markdown",
   "id": "6c34b7ba",
   "metadata": {},
   "source": [
    "### Recordatorio\n",
    "\n",
    "Habíamos definido en una de nuestras reuniones que la función sistemas no nos muestra como tal la serie de tiempo del sistema, porque nos estamos basando en una matriz aleatoria y en el corazón de la función, no se están poniendo las ecuaciones de LK sino solamente como se visualiza la matriz aleatoria en serie de tiempo. En otras palabras, esta función no corresponde con la serie de tiempo de la dinámica de las 5 especies."
   ]
  },
  {
   "cell_type": "code",
   "execution_count": null,
   "id": "f6ceac42",
   "metadata": {},
   "outputs": [],
   "source": [
    "x0 = sample(0:0.01:4,2)\n",
    "t0 = 0\n",
    "tf = 50\n",
    "dt = 0.001\n",
    "\n",
    "(t, sol) = sistemas(x0,t0,tf,dt,A)"
   ]
  },
  {
   "cell_type": "code",
   "execution_count": null,
   "id": "dab6a554",
   "metadata": {},
   "outputs": [],
   "source": [
    "plot(t,sol[:,1],label =\"Especie 1\",w=2)\n",
    "\n",
    "plot!(t,sol[:,2],label =\"Especie 2\",w=2)\n",
    "#plot!(t,sol[:,3],label =\"Especie 3\",w=2)\n",
    "#plot!(t,sol[:,4],label =\"Especie 4\",w=2)\n",
    "#plot!(t,sol[:,5],label =\"Especie 5\",w=2)"
   ]
  },
  {
   "cell_type": "markdown",
   "id": "213f648a",
   "metadata": {},
   "source": [
    "## 11 de mayo, 2023\n",
    "\n",
    "Después de casi dos meses batallando con el sistema las conclusiones son que el sistema funciona bien, y es aplicable a cualquier tipo de sistema de $N$ especies. Sin embargo se ocupa de un reescalamiento del sistema en sus números aleatorios, ya que operar con números menores que uno afecta la dinámica de forma que excede la capacidad de carga, poner enteros facilita el problema y para ello damos un factor de escala $\\times 10$ para que se ajuste adecuadamente.\n",
    "\n",
    "En la siguiente entrada voy a investigar area plot y desarrollar más este tema del reescalamiento.\n"
   ]
  },
  {
   "cell_type": "code",
   "execution_count": null,
   "id": "88ca923d",
   "metadata": {},
   "outputs": [],
   "source": [
    "areaplot(t, \n",
    "    sol[:,1], \n",
    "    seriescolor = [:magenta],\n",
    "    fillalpha = [0.6],\n",
    "    label=\"Especie 1\"\n",
    ")\n",
    "areaplot!(t, \n",
    "    sol[:,2], \n",
    "    seriescolor = [:orange],\n",
    "    fillalpha = [0.5],\n",
    "    label=\"Especie 2\"\n",
    ")\n",
    "areaplot!(t, \n",
    "    sol[:,3], \n",
    "    seriescolor = [:red],\n",
    "    fillalpha = [0.4],\n",
    "    label=\"Especie 3\"\n",
    ")\n",
    "areaplot!(t, \n",
    "    sol[:,4], \n",
    "    seriescolor = [:green],\n",
    "    fillalpha = [0.4],\n",
    "    label=\"Especie 4\"\n",
    ")\n",
    "areaplot!(t, \n",
    "    sol[:,5], \n",
    "    seriescolor = [:blue],\n",
    "    fillalpha = [0.3],\n",
    "    label=\"Especie 5\"\n",
    ")"
   ]
  },
  {
   "cell_type": "code",
   "execution_count": null,
   "id": "cd4e3aae",
   "metadata": {},
   "outputs": [],
   "source": [
    "areaplot(1:3, [1 2 3; 7 8 9; 4 5 6], seriescolor = [:red :green :blue], fillalpha = [0.2 0.3 0.4])"
   ]
  },
  {
   "cell_type": "markdown",
   "id": "120aae11",
   "metadata": {},
   "source": [
    "#### Jacobiano del sistema"
   ]
  },
  {
   "cell_type": "markdown",
   "id": "ba0f3198",
   "metadata": {},
   "source": [
    "Tenemos dos tipos de derivadas parciales para este jacobiano, las de la identidad y las derivadas de la parte triangular superior e inferior.\n",
    "\n",
    "$$\n",
    "\\frac{\\partial f_i(x_i)}{\\partial x_i}=r_i\\left(1-\\frac{\\sum_j a_{ij}x_j}{K}\\right)-\\frac{r_ix_i}{K};\\qquad \\text{donde }a_{ii}=1\n",
    "$$\n",
    "\n",
    "y para el otro caso tenemos\n",
    "\n",
    "$$\n",
    "\\frac{\\partial f_i(x_j)}{\\partial x_j}=-\\frac{r_ix_i a_{ij}}{K}\n",
    "$$"
   ]
  },
  {
   "cell_type": "code",
   "execution_count": null,
   "id": "5795e7a2",
   "metadata": {},
   "outputs": [],
   "source": [
    "N = 5\n",
    "r = 2*ones(N)\n",
    "K = 3*ones(N)\n",
    "A = ones(5,5)\n",
    "P = [r,K,N,A]\n",
    "Jacobiano(ones(N),P)"
   ]
  },
  {
   "cell_type": "code",
   "execution_count": null,
   "id": "22d16f9a",
   "metadata": {},
   "outputs": [],
   "source": [
    "2*(1-5/3)-2/3"
   ]
  },
  {
   "cell_type": "markdown",
   "id": "75d82fe8",
   "metadata": {},
   "source": [
    "Vamos a hallar las raíces del sistema, ya tenemos construido el Jacobiano del mismo ahora solo falta verificar que funciona para el sistema de $2\\times 2$. Una vez hecho eso recurrimos a generar un método de newton-rhapson generalizado en donde podamos determinar los puntos críticos del sistema. Para ello seguimos la regla recursiva\n",
    "\n",
    "$$\n",
    "v_{i+1}=v_i-(J(v_i))^{-1}f(v_i)\n",
    "$$\n",
    "\n"
   ]
  },
  {
   "cell_type": "code",
   "execution_count": null,
   "id": "58d74900",
   "metadata": {},
   "outputs": [],
   "source": [
    "#Ejemplo para el caso de una dimensión\n",
    "tempCritica(T) = 2*tanh(1/T)^2 - 1 \n",
    "\n",
    "function Dcentrada(f,a,h)\n",
    "    derivada = (f(a+h) - f(a-h))/2h\n",
    "    return derivada\n",
    "end\n",
    "\n",
    "function newtonRhapson(f,x_inicial,n)\n",
    "    h=0.0001\n",
    "    if n==1\n",
    "        return x_inicial\n",
    "    elseif n > 1\n",
    "        iteracion = newtonRhapson(f,x_inicial,n-1)-f(newtonRhapson(f,x_inicial,n-1))/Dcentrada(f,newtonRhapson(f,x_inicial,n-1),h)\n",
    "    end\n",
    "    return iteracion\n",
    "end"
   ]
  },
  {
   "cell_type": "code",
   "execution_count": null,
   "id": "8ade2e17",
   "metadata": {},
   "outputs": [],
   "source": [
    "raiz = newtonRhapson(tempCritica,2,10)"
   ]
  },
  {
   "cell_type": "code",
   "execution_count": null,
   "id": "f59ad95f",
   "metadata": {},
   "outputs": [],
   "source": [
    "N = 5\n",
    "r = 2*ones(N)\n",
    "K = 3*ones(N)\n",
    "A = ones(5,5)\n",
    "P = [r,K,N,A]\n",
    "nrMulti(Jacobiano,rand(5),P,10)"
   ]
  },
  {
   "cell_type": "markdown",
   "id": "74c4e8e2",
   "metadata": {},
   "source": [
    "## 17 mayo\n",
    "\n",
    "Vamos a poner a prueba el jacobiano y newton rhapson para ver si de verdad encontramos los puntos críticos. Para ello vamos a usar nuestro sistema de prueba de $2\\times 2$ para verificar. Para ello hallamos los puntos críticos del siguiente sistema.\n",
    "\n",
    "$$\n",
    "A=\\begin{pmatrix}\n",
    "1 & 1\\\\ \n",
    "2 & 1\n",
    "\\end{pmatrix}\n",
    "$$\n",
    "\n",
    "El sistema de prueba que usaremos en cuestión es el siguiente.\n",
    "\n",
    "$$\n",
    "\\begin{cases}\n",
    "\\frac{dx_1}{dt}=2x_1\\left(1-\\frac{x_1}{2}-\\frac{x_2}{2}\\right)\\\\\n",
    "\\frac{dx_2}{dt}=3x_2\\left(1-\\frac{2x_1}{3}-\\frac{x_2}{3}\\right)\n",
    "\\end{cases}\n",
    "$$\n",
    "\n",
    "Tiene los puntos críticos $x_1=(0,0)$, $x_2=(0,3)$, $x_3=(2,3)$, $x_4=(1,1)$. Verifiquemos."
   ]
  },
  {
   "cell_type": "code",
   "execution_count": null,
   "id": "2b86cd30",
   "metadata": {},
   "outputs": [],
   "source": [
    "include(\"../Codigo/main.jl\")"
   ]
  },
  {
   "cell_type": "code",
   "execution_count": null,
   "id": "a18d5748",
   "metadata": {},
   "outputs": [],
   "source": [
    "N = 2\n",
    "r = [2,3]\n",
    "K = [2,3]\n",
    "A = [1 1;2 1]\n",
    "P = [r,K,N,A]\n",
    "display(nrMulti(Jacobiano,[1.5,0.9],P,100))\n",
    "A1 = Jacobiano([1,1],P)\n",
    "display(A1)\n",
    "display(eigvals(A1))"
   ]
  },
  {
   "cell_type": "code",
   "execution_count": null,
   "id": "f5aeb83c",
   "metadata": {},
   "outputs": [],
   "source": [
    "N = 5\n",
    "r = 2*ones(N)\n",
    "K = 3*ones(N)\n",
    "A,g = randomMatrix(N,0.1)\n",
    "P = [r,K,N,A]\n",
    "x0 = nrMulti(Jacobiano,sample(0:0.1:100,5),P,100)\n",
    "display(x0)\n",
    "A1 = Jacobiano(x0,P)\n",
    "display(A1)\n",
    "display(eigvals(A1))"
   ]
  },
  {
   "cell_type": "code",
   "execution_count": null,
   "id": "093a18c5",
   "metadata": {},
   "outputs": [],
   "source": [
    "A"
   ]
  },
  {
   "cell_type": "code",
   "execution_count": null,
   "id": "fa0b1f29",
   "metadata": {},
   "outputs": [],
   "source": [
    "gplot(g,nodelabel=1:5)"
   ]
  },
  {
   "cell_type": "markdown",
   "id": "bf42651f",
   "metadata": {},
   "source": [
    "## 18 de mayo, 2023\n",
    "\n",
    "Vamos a probar todo con sistemas de $2\\times 2$ y de $3\\times 3$"
   ]
  },
  {
   "cell_type": "code",
   "execution_count": null,
   "id": "8f321a89",
   "metadata": {},
   "outputs": [],
   "source": [
    "include(\"../Codigo/main.jl\")"
   ]
  },
  {
   "cell_type": "code",
   "execution_count": null,
   "id": "03bfc438",
   "metadata": {},
   "outputs": [],
   "source": [
    "x0 = sample(0:0.1:4,2)\n",
    "t0 = 0\n",
    "tf = 100\n",
    "dt = 0.1\n",
    "\n",
    "p = 1\n",
    "N = 2\n",
    "#r = [2,3]\n",
    "#K = [2,3]\n",
    "r = 2*ones(N)\n",
    "K = 3*ones(N)\n",
    "\n",
    "params = [N,p,r,K]\n",
    "(t, sol),(_,solE),A,g = poblacionesLK(x0,t0,tf,dt,params)"
   ]
  },
  {
   "cell_type": "code",
   "execution_count": null,
   "id": "466220c1",
   "metadata": {},
   "outputs": [],
   "source": [
    "plot(t,sol[:,1],label =\"Especie 1\")\n",
    "\n",
    "plot!(t,sol[:,2],label =\"Especie 2\")"
   ]
  },
  {
   "cell_type": "code",
   "execution_count": null,
   "id": "bb43189c",
   "metadata": {},
   "outputs": [],
   "source": [
    "A"
   ]
  },
  {
   "cell_type": "markdown",
   "id": "ce31ab70",
   "metadata": {},
   "source": [
    "### Para $3\\times 3$"
   ]
  },
  {
   "cell_type": "code",
   "execution_count": null,
   "id": "e5e2f071",
   "metadata": {},
   "outputs": [],
   "source": [
    "include(\"../Codigo/main.jl\")"
   ]
  },
  {
   "cell_type": "code",
   "execution_count": null,
   "id": "26fc7a3b",
   "metadata": {},
   "outputs": [],
   "source": [
    "x0 = sample(0:0.1:4,3)\n",
    "t0 = 0\n",
    "tf = 50\n",
    "dt = 0.1\n",
    "\n",
    "p = 0.75\n",
    "N = 3\n",
    "#r = [2,3]\n",
    "#K = [2,3]\n",
    "r = 2*ones(N)\n",
    "K = 3*ones(N)\n",
    "\n",
    "params = [N,p,r,K]\n",
    "(t, sol),(_,solE),A,g = poblacionesLK(x0,t0,tf,dt,params)"
   ]
  },
  {
   "cell_type": "code",
   "execution_count": null,
   "id": "91efe057",
   "metadata": {},
   "outputs": [],
   "source": [
    "plot(t,sol[:,1],label =\"Especie 1\")\n",
    "\n",
    "plot(t,sol[:,2],label =\"Especie 2\")\n",
    "plot(t,sol[:,3],label= \"Especie 3\")\n",
    "axhline(3,c=\"r\",linestyle=\"--\",label=L\"K\")\n",
    "legend()"
   ]
  },
  {
   "cell_type": "code",
   "execution_count": null,
   "id": "b51bcd9c",
   "metadata": {},
   "outputs": [],
   "source": [
    "xs = collect(0:0.1:10)\n",
    "ys = collect(0:0.1:10)\n",
    "zs = collect(0:0.1:10)\n",
    "\n",
    "X,Y,Z = np.meshgrid(xs,ys,zs)\n",
    "\n",
    "U = r[1]X - r[1]X.*X/K[1] - r[1]A[1,2]Y.*X/K[1] - r[1]A[1,3]Z.*X/K[3]\n",
    "V = r[2]Y - r[2]A[2,1]X.*Y/K[2] - r[2]Y.*Y/K[2] - r[2]A[2,3]Z.*Y/K[3]\n",
    "W = r[3]Z - r[3]A[3,1]X.*Z/K[3] - r[3]A[3,2]Y.*Z/K[3] - r[3]Z.*Z/K[3]\n",
    "title(\"Espacio Fase\")\n",
    "#axhline(0,color=\"gray\")\n",
    "#axvline(0,color=\"gray\")\n",
    "quiver(X,Y,Z,U,V,W)\n",
    "xlabel(L\"$N_1(t)$\")\n",
    "ylabel(L\"$N_2(t)$\")\n",
    "scatter(3,0, label = L\"(3,0)\")\n",
    "scatter(0,3, label = L\"(0,3)\")\n",
    "\n",
    "legend()"
   ]
  },
  {
   "cell_type": "markdown",
   "id": "3a922289",
   "metadata": {},
   "source": [
    "## 26 de mayo, 2023"
   ]
  },
  {
   "cell_type": "code",
   "execution_count": null,
   "id": "997e1b93",
   "metadata": {},
   "outputs": [],
   "source": [
    "include(\"../Codigo/main.jl\")"
   ]
  },
  {
   "cell_type": "markdown",
   "id": "49d1d8e7",
   "metadata": {},
   "source": [
    "### Tarea 3 b)\n",
    "\n",
    "Tratar de generar un LK estable de 100x100 para  graficar su eigen-valores.\n",
    "\n",
    "Esta hazaña no es tan sencilla puesto que la probabilidad óptima para que sea susceptible la estabilidad va en función de \n",
    "\n",
    "$$\n",
    "p<\\frac{1}{N},\\qquad\\text{donde $p$ es igual a la probabilidad de interacción}\n",
    "$$\n",
    "\n",
    "Transportando eso a 100 especies, nos da espacio para trabajar con probabilidades de $p=0.01$ y aún así hay que ver si funciona."
   ]
  },
  {
   "cell_type": "code",
   "execution_count": null,
   "id": "dc1dbd55",
   "metadata": {},
   "outputs": [],
   "source": [
    "x0 = sample(0:0.01:4,5)\n",
    "t0 = 0\n",
    "tf = 50\n",
    "dt = 0.1\n",
    "\n",
    "N = 5\n",
    "p = 0.5\n",
    "r = 2*ones(N)\n",
    "K = 3*ones(N)\n",
    "\n",
    "params = [N,p,r,K]\n",
    "(t, sol),_,A,g = poblacionesLK(x0,t0,tf,dt,params)\n",
    "#(t, sol1),A = pruebas(x0,t0,tf,dt,r,K)"
   ]
  },
  {
   "cell_type": "code",
   "execution_count": null,
   "id": "963153e2",
   "metadata": {},
   "outputs": [],
   "source": [
    "p1 = plot(t,sol[:,1],label =\"Especie 1\",w=2)\n",
    "\n",
    "plot!(t,sol[:,2],label =\"Especie 2\",w=2,title=\"RK4\")\n",
    "plot!(t,sol[:,3],label =\"Especie 3\",w=2)\n",
    "plot!(t,sol[:,4],label =\"Especie 4\",w=2)\n",
    "plot!(t,sol[:,5],label =\"Especie 5\",w=2)\n",
    "#=plot!(t,sol[:,6],label =\"Especie 6\",w=2)\n",
    "plot!(t,sol[:,7],label =\"Especie 7\",w=2)\n",
    "plot!(t,sol[:,8],label =\"Especie 8\",w=2)\n",
    "plot!(t,sol[:,9],label =\"Especie 9\",w=2)\n",
    "plot!(t,sol[:,10],label =\"Especie 10\",w=2)=#\n",
    "\n",
    "\n",
    "plot(p1,size=(900, 350))"
   ]
  },
  {
   "cell_type": "code",
   "execution_count": null,
   "id": "8bf226f0",
   "metadata": {},
   "outputs": [],
   "source": [
    "A"
   ]
  },
  {
   "cell_type": "code",
   "execution_count": null,
   "id": "eed4db22",
   "metadata": {},
   "outputs": [],
   "source": [
    "x0"
   ]
  },
  {
   "cell_type": "code",
   "execution_count": null,
   "id": "cbe8aa81",
   "metadata": {},
   "outputs": [],
   "source": [
    "P = [r,K,N,A]\n",
    "raices = nrMulti(Jacobiano,sample(0:0.1:4,5),P,100)\n",
    "J = Jacobiano(raices,P)\n",
    "eig = eigvals(J)\n",
    "print(\"Raices:\")\n",
    "display(raices)\n",
    "print(\"Jacobiano evaluado. Matriz de interacciones\")\n",
    "display(J)\n",
    "print(\"Eigenvalores del sistema\")\n",
    "display(eig)"
   ]
  },
  {
   "cell_type": "code",
   "execution_count": null,
   "id": "5a5894cd",
   "metadata": {},
   "outputs": [],
   "source": [
    "r = sqrt(N*p)\n",
    "d = -2\n",
    "scatter(real(eig),imag(eig))\n",
    "plot!(circulo(d,0,r),seriestype=:shape,\n",
    "    lw=0.5,\n",
    "    c = :blue,\n",
    "    linecolor = :black,\n",
    "    legend = false,\n",
    "    fillalpha = 0.2,\n",
    "    aspect_ratio = 1\n",
    ")"
   ]
  },
  {
   "cell_type": "markdown",
   "id": "f1f060cb",
   "metadata": {},
   "source": [
    "### Tarea 3 a)\n",
    "\n",
    "Generar 30 Matrices aleatorias (Jacobianos) de 100x100 y graficar su eigen-valores. Para este caso vamos a aplicar la metodología del May, en donde se salta todos los pasos para llegar al jacobiano y solo considera las matrices aleatorias como matrices de interacción. Sin embargo deben cumplir cierto criterio que dice que la diagonal debe ir con números de la forma $-d$; esto con el objetivo de simular una capacidad de carga en las redes, en donde las especies interactuén consigo mismas negativamente (?).\n",
    "\n",
    "Para ello es necesario generar una nueva función, ya que randomMatrix no considera ese caso."
   ]
  },
  {
   "cell_type": "code",
   "execution_count": null,
   "id": "07a8dd99",
   "metadata": {},
   "outputs": [],
   "source": [
    "include(\"../Codigo/main.jl\")"
   ]
  },
  {
   "cell_type": "code",
   "execution_count": null,
   "id": "ce09770a",
   "metadata": {},
   "outputs": [],
   "source": [
    "N = 100\n",
    "p = 0.25\n",
    "\n",
    "J,g = interacciones(N,p,1)"
   ]
  },
  {
   "cell_type": "code",
   "execution_count": null,
   "id": "1d42996d",
   "metadata": {},
   "outputs": [],
   "source": [
    "display(J)\n",
    "#display(collect(enlacesAleatorios(N,p)))\n",
    "gplot(g,nodelabel=1:N)"
   ]
  },
  {
   "cell_type": "code",
   "execution_count": null,
   "id": "149eb0b6",
   "metadata": {},
   "outputs": [],
   "source": [
    "ev = eigvals(J)"
   ]
  },
  {
   "cell_type": "code",
   "execution_count": null,
   "id": "9f10f792",
   "metadata": {},
   "outputs": [],
   "source": [
    "r = sqrt(N*p)\n",
    "scatter(real(ev),imag(ev))\n",
    "plot!(circulo(-1/sqrt(N*p),0,1),seriestype=:shape,\n",
    "    lw=0.5,\n",
    "    c = :blue,\n",
    "    linecolor = :black,\n",
    "    legend = false,\n",
    "    fillalpha = 0.2,\n",
    "    aspect_ratio = 1\n",
    ")"
   ]
  },
  {
   "cell_type": "code",
   "execution_count": null,
   "id": "70e5c595",
   "metadata": {},
   "outputs": [],
   "source": [
    "sqrt(N*p)"
   ]
  },
  {
   "cell_type": "markdown",
   "id": "aa3c3e10",
   "metadata": {},
   "source": [
    "### Vamos a jugar con distribuciones normales\n",
    "\n",
    "Siendo su definición general\n",
    "\n",
    "$$\n",
    "f(x)=\\frac{1}{\\sigma\\sqrt{2\\pi}}e^{-\\frac{(x-\\mu)^2}{2\\sigma^2}}\n",
    "$$"
   ]
  },
  {
   "cell_type": "code",
   "execution_count": null,
   "id": "a877b3a7",
   "metadata": {},
   "outputs": [],
   "source": [
    "normal(σ,μ,x) = exp(-(x-μ)^2/(2σ^2))/(σ*sqrt(2π))"
   ]
  },
  {
   "cell_type": "code",
   "execution_count": null,
   "id": "90d056d9",
   "metadata": {},
   "outputs": [],
   "source": [
    "xs = range(-10, stop = 10, length = 500)\n",
    "ys = [normal(1,0,x) for x in xs]\n",
    "\n",
    "plot(xs ,ys)"
   ]
  },
  {
   "cell_type": "code",
   "execution_count": null,
   "id": "53f71e77",
   "metadata": {},
   "outputs": [],
   "source": [
    "r = randn(1000)\n",
    "histogram(r,bins=100)"
   ]
  },
  {
   "cell_type": "code",
   "execution_count": null,
   "id": "5f7d9679",
   "metadata": {},
   "outputs": [],
   "source": [
    "d = Normal(0,5)\n",
    "r = rand(d,1000)\n",
    "histogram(r,bins=50)"
   ]
  },
  {
   "cell_type": "markdown",
   "id": "1e60d5e4",
   "metadata": {},
   "source": [
    "## 3 de junio, 2023\n",
    "\n",
    "Vamos a seguir con las tareas precisas de la ley circular tanto con matrices de interacción como con el modelo completo. Primero vamos a verificar lo del artículo de steffano y de ahí vemos como nos movemos con el modelo completo.\n",
    "\n",
    "Las reglas primordiales de la ley circular que se propone en el artículo es que las matrices en su diagonal son de la forma $M_{ii}=-d$ para representar la capacidad de carga del sistema, es como una muestra de autoregulación; estos términos son importantes ya que si llegan a cambiar, el centro de la ley circular es complejo de definir (como pasa con los jacobianos del sistema completo). Los términos fuera de la diagonal son de la forma\n",
    "\n",
    "$$\n",
    "\\begin{cases}\n",
    "M_{ij} = r\\qquad\\text{con una probabilidad de }p\\\\\n",
    "M_{ij} = 0\\qquad\\text{con la probabilidad }1-p\n",
    "\\end{cases}\n",
    "$$\n",
    "\n",
    "donde $r$ es un número aleatorio tomado de una distribución normal con varianza uno y media cero.\n",
    "Ya de ahí definimos el centro de la ley círcular como $-d$ y el radio como $\\sqrt{Np}$. Sin embargo optamos por normalizar las cantidades de forma que  el radio del círculo es unitario y la matriz de interacciones se ve como $\\textbf{M}/\\sqrt{Np}$\n",
    "\n",
    "Por tanto vamos a probar todo esto para distintas distribuciones y confirmar la ley circular. Trabajaremos con 100 especies con una conectividad del 50%, es decir, probabilidad de 0.5. Un detalle interesante emerge cuando $p=1/N$."
   ]
  },
  {
   "cell_type": "code",
   "execution_count": null,
   "id": "054889ac",
   "metadata": {},
   "outputs": [],
   "source": [
    "include(\"../Codigo/main.jl\")"
   ]
  },
  {
   "cell_type": "code",
   "execution_count": null,
   "id": "daf74396",
   "metadata": {},
   "outputs": [],
   "source": [
    "N = 100\n",
    "p = 0.5\n",
    "\n",
    "J1,_ = interacciones(N,p,1,0)\n",
    "J2,_ = interacciones(N,p,2,0)"
   ]
  },
  {
   "cell_type": "code",
   "execution_count": null,
   "id": "71b2dbe1",
   "metadata": {},
   "outputs": [],
   "source": [
    "ev1 = eigvals(J1)\n",
    "ev2 = eigvals(J2)"
   ]
  },
  {
   "cell_type": "code",
   "execution_count": null,
   "id": "fff14ec3",
   "metadata": {},
   "outputs": [],
   "source": [
    "r = sqrt(N*p)\n",
    "scatter(real(ev1),imag(ev1))\n",
    "plot!(circulo(0,0,1),seriestype=:shape,\n",
    "    lw=0.5,\n",
    "    c = :blue,\n",
    "    linecolor = :black,\n",
    "    legend = false,\n",
    "    fillalpha = 0.2,\n",
    "    aspect_ratio = 1\n",
    ")"
   ]
  },
  {
   "cell_type": "code",
   "execution_count": null,
   "id": "3458949c",
   "metadata": {},
   "outputs": [],
   "source": [
    "r = sqrt(N*p)\n",
    "scatter(real(ev2),imag(ev2),color=\"red\")\n",
    "plot!(circulo(0,0,1),seriestype=:shape,\n",
    "    lw=0.5,\n",
    "    c = :red,\n",
    "    linecolor = :black,\n",
    "    legend = false,\n",
    "    fillalpha = 0.2,\n",
    "    aspect_ratio = 1\n",
    ")"
   ]
  },
  {
   "cell_type": "markdown",
   "id": "85f09a9d",
   "metadata": {},
   "source": [
    "## 14 Junio, 2023"
   ]
  },
  {
   "cell_type": "code",
   "execution_count": null,
   "id": "e9bfce58",
   "metadata": {},
   "outputs": [],
   "source": [
    "dist = Normal(0,2)\n",
    "rand(dist,10)"
   ]
  },
  {
   "cell_type": "code",
   "execution_count": null,
   "id": "870adf86",
   "metadata": {},
   "outputs": [],
   "source": [
    "1/sqrt(.25*100)"
   ]
  },
  {
   "cell_type": "markdown",
   "id": "b98cd0c9",
   "metadata": {},
   "source": [
    "# 27 de diciembre 2023\n",
    "\n",
    "Vamos a comenzar desde el principio. Vamos a cambiar un poco el enfoque de como estabamos llevando a cabo la tesis, el tema principal para que sea candidata a tesis de física es *la transición de fase* en sistemas complejos. Anteriormente nos tomamos la idea de Robert May centrándonos sobre una red aleatoria y dos parámetros que deciden la estabilidad del sistema. \n",
    "\n",
    "En esta ocasión me gustaría cambiar el modelo de red (ya que el modelo de red aleatoria no nos sirve para descripciones realistas); nos vamos a centrar en el modelo de red libre de escala, de Albert-Barabasi. Me gustaría abordar el tema con todo y su ley de potencias y demás. Para comenzar vamos a construir el modelo y de ahí nos vamos a ir tendidos a hacer la conexión con un modelo de dinámica no lineal.\n",
    "\n",
    "Este modelo hasta lo que se, es evolutivo y depende de un proceso estocástico. Por evolutivo me refiero a que es dinámico y tiene cierta dependencia del tiempo (esa sería una buena hipótesis) por tanto este tipo de matriz no tiene asociada una única matriz de adyacencia, en particular para cada instante (discreto) tiene asociada una matriz de adyacencia, por lo tanto tendremos $N$ matrices de adyacencia las cuales se tendrá que analizar su estabilidad y se debe considerar el sistema dinámico sobre cada matriz de adyacencia.\n",
    "\n",
    "Sin más preliminares, comenzamos por construir la red de Albert-Barabasi"
   ]
  },
  {
   "cell_type": "code",
   "execution_count": null,
   "id": "40c178e3",
   "metadata": {},
   "outputs": [],
   "source": []
  }
 ],
 "metadata": {
  "kernelspec": {
   "display_name": "Julia 1.8.5",
   "language": "julia",
   "name": "julia-1.8"
  },
  "language_info": {
   "file_extension": ".jl",
   "mimetype": "application/julia",
   "name": "julia",
   "version": "1.8.5"
  }
 },
 "nbformat": 4,
 "nbformat_minor": 5
}
