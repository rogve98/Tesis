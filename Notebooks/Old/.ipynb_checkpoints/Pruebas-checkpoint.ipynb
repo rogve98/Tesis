version https://git-lfs.github.com/spec/v1
oid sha256:cb04fd82dc798344c393147379f68856adced0718c7f31aaa1294356e7bdf399
size 45880
