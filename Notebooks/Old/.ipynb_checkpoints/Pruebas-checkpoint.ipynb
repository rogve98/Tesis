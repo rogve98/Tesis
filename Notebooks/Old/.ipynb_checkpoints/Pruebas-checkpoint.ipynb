version https://git-lfs.github.com/spec/v1
oid sha256:931e2b97baa3e9ca712dc56eeab39160fafff4a4756c8ed64c663e6e503c182f
size 47755
