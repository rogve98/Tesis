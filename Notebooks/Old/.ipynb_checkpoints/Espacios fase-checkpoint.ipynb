version https://git-lfs.github.com/spec/v1
oid sha256:d312f5d3b2fdd68f164eb3d51f50f59a1233a419f2a8430837fee0f482ecc6ec
size 984201
