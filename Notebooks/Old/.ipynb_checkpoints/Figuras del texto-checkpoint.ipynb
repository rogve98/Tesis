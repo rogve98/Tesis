version https://git-lfs.github.com/spec/v1
oid sha256:fc78ea2a0f118209757c8c74b61d38fa23098479b165d1ea1c4726a93c7f36f3
size 60852
