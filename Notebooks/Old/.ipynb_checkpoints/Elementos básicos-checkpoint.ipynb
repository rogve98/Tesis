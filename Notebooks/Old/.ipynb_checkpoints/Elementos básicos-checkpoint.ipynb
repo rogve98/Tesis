version https://git-lfs.github.com/spec/v1
oid sha256:34c7c4c2a604d5adfc884caeceff096ebfcd829b1128f9e3fc37b889e31bd107
size 2910788
