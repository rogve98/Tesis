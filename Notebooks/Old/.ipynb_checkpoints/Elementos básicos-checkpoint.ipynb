version https://git-lfs.github.com/spec/v1
oid sha256:2c19cb2bcc6a76b7b2e27fda0f1b6ce154027e722c3cf900623a6e6a26a4d035
size 3934518
