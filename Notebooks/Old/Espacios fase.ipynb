version https://git-lfs.github.com/spec/v1
oid sha256:7a487a53ea223dee129a8f49788c59424c0724b2fa19606497d81f89ea3bd8c1
size 984878
