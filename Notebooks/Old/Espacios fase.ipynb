version https://git-lfs.github.com/spec/v1
oid sha256:666965a5107d6ce763da41e27f74081333033834a558ee41949107cd31fe2def
size 984654
