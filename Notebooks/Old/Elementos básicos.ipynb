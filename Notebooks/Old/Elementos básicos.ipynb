version https://git-lfs.github.com/spec/v1
oid sha256:b6e99cb6c1b70e1c85e1acf85045759c686db27e58ae68c24062aa11df95f6fa
size 2909990
