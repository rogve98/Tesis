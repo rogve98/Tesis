version https://git-lfs.github.com/spec/v1
oid sha256:10701bbde485cd79f27a0ec96afb70b44dd56b763eb51b82696bec09e898dc22
size 2909993
