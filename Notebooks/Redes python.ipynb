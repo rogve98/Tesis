version https://git-lfs.github.com/spec/v1
oid sha256:6b49b0ce6d1e9482bfd590b0d387d7066fef8ab9fee2be512a89b36f8b4eeae5
size 307204
