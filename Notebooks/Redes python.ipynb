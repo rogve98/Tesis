version https://git-lfs.github.com/spec/v1
oid sha256:f9d4db96e601077792a2310e6c7e488b59cd65f217581ae373d98a9f18d9038b
size 306898
