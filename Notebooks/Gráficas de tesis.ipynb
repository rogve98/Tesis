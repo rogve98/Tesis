version https://git-lfs.github.com/spec/v1
oid sha256:096bec49d639a3b86f7df674105cb28b2d483fb92b0696a7b6e05ccf9682fec8
size 35926
