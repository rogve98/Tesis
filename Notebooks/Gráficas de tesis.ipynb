version https://git-lfs.github.com/spec/v1
oid sha256:1c5acd079e50dd4810ee13bcbeac8a4e2991b186fe3b3bc3effa414514dd5e57
size 225264
