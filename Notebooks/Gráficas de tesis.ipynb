version https://git-lfs.github.com/spec/v1
oid sha256:2ed0ec4b3a5901607fae8ca443ae2c0062e98bff5e5f7fd266432feea141d012
size 11421136
