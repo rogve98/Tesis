version https://git-lfs.github.com/spec/v1
oid sha256:facc461bd49b90f1ede8244d27daaead7d61ff732f4bd73f9025f3dc211b4f92
size 12689144
