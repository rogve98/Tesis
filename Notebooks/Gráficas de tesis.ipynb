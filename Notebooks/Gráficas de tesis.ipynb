version https://git-lfs.github.com/spec/v1
oid sha256:2f019daf68f11c12f21d0bb66474d07970adfea9a28c7a2a1e97fe0c7e95a990
size 16122792
