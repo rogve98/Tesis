version https://git-lfs.github.com/spec/v1
oid sha256:653c28e38b6ffdf281494ff87ee3244ff86b27f706dfe6fdb839e30077dba7e4
size 577314
