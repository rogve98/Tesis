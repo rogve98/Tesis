{
 "cells": [
  {
   "cell_type": "markdown",
   "id": "c813dbb2",
   "metadata": {},
   "source": [
    "#  Pruebas"
   ]
  },
  {
   "cell_type": "code",
   "execution_count": 3,
   "id": "78df05f0",
   "metadata": {},
   "outputs": [
    {
     "data": {
      "text/plain": [
       "circulo (generic function with 1 method)"
      ]
     },
     "execution_count": 3,
     "metadata": {},
     "output_type": "execute_result"
    }
   ],
   "source": [
    "include(\"../Codigo/tesis/main.jl\")"
   ]
  },
  {
   "cell_type": "markdown",
   "id": "415bce5a",
   "metadata": {},
   "source": [
    "push!(LOAD_PATH,\"/home/rogve98/Documentos/Tesis/Tesis/Código/Codigo/tesis\")"
   ]
  },
  {
   "cell_type": "markdown",
   "id": "085b9ac6",
   "metadata": {},
   "source": [
    "import main"
   ]
  },
  {
   "cell_type": "code",
   "execution_count": 4,
   "id": "93862c82",
   "metadata": {},
   "outputs": [
    {
     "data": {
      "text/plain": [
       "Parametros(100, 0.2, 0.2, [1.0, 1.0, 1.0, 1.0, 1.0, 1.0, 1.0, 1.0, 1.0, 1.0  …  1.0, 1.0, 1.0, 1.0, 1.0, 1.0, 1.0, 1.0, 1.0, 1.0], 0, 50, 0.01, [2.0, 2.0, 2.0, 2.0, 2.0, 2.0, 2.0, 2.0, 2.0, 2.0  …  2.0, 2.0, 2.0, 2.0, 2.0, 2.0, 2.0, 2.0, 2.0, 2.0], [5.0, 5.0, 5.0, 5.0, 5.0, 5.0, 5.0, 5.0, 5.0, 5.0  …  5.0, 5.0, 5.0, 5.0, 5.0, 5.0, 5.0, 5.0, 5.0, 5.0])"
      ]
     },
     "execution_count": 4,
     "metadata": {},
     "output_type": "execute_result"
    }
   ],
   "source": [
    "#PARÁMETROS\n",
    "N = 100\n",
    "x0 = ones(N)\n",
    "t0 = 0\n",
    "tf = 50\n",
    "h = 0.01\n",
    "σ = 0.2\n",
    "p = 0.2\n",
    "r = 2*ones(N)\n",
    "K = 5*ones(N)\n",
    "params = Parametros(N::Int,σ::Float64,p::Float64,x0::Vector,t0::Int,tf::Int,h::Float64,r::Vector,K::Vector)"
   ]
  },
  {
   "cell_type": "code",
   "execution_count": null,
   "id": "096556c2",
   "metadata": {},
   "outputs": [],
   "source": [
    "s = poblacionesLK(params)"
   ]
  },
  {
   "cell_type": "code",
   "execution_count": null,
   "id": "1a60b76c",
   "metadata": {},
   "outputs": [],
   "source": [
    "esEstable(s.rk4)"
   ]
  },
  {
   "cell_type": "code",
   "execution_count": null,
   "id": "fad59759",
   "metadata": {},
   "outputs": [],
   "source": [
    "figura = plot()\n",
    "\n",
    "for i in 1:100\n",
    "    plot!(figura, s.t, s.rk4[:,i], label=\"\")\n",
    "end\n",
    "\n",
    "display(figura)"
   ]
  },
  {
   "cell_type": "code",
   "execution_count": null,
   "id": "c251c046",
   "metadata": {},
   "outputs": [],
   "source": []
  },
  {
   "cell_type": "code",
   "execution_count": null,
   "id": "be30b7ea",
   "metadata": {},
   "outputs": [],
   "source": [
    "E = Inteacciones(params,s)"
   ]
  },
  {
   "cell_type": "code",
   "execution_count": null,
   "id": "e6616854",
   "metadata": {},
   "outputs": [],
   "source": [
    "J = Jacobiano(E)"
   ]
  },
  {
   "cell_type": "code",
   "execution_count": null,
   "id": "8dc3413e",
   "metadata": {},
   "outputs": [],
   "source": [
    "ev1 = eigvals(J)"
   ]
  },
  {
   "cell_type": "code",
   "execution_count": null,
   "id": "5841940a",
   "metadata": {},
   "outputs": [],
   "source": [
    "r = sqrt(params.N*params.p)\n",
    "scatter(real(ev1),imag(ev1))\n",
    "plot!(circulo(-7.5,0,7.5),seriestype=:shape,\n",
    "    lw=0.5,\n",
    "    c = :blue,\n",
    "    linecolor = :black,\n",
    "    legend = false,\n",
    "    fillalpha = 0.2,\n",
    "    aspect_ratio = 1\n",
    ")"
   ]
  },
  {
   "cell_type": "code",
   "execution_count": null,
   "id": "e436a67e",
   "metadata": {},
   "outputs": [],
   "source": [
    "M = interacciones(params.N,params.p,params.σ,1)"
   ]
  },
  {
   "cell_type": "code",
   "execution_count": null,
   "id": "1f504a30",
   "metadata": {},
   "outputs": [],
   "source": [
    "p = range(0, stop = 1, length = 50)\n",
    "@time begin \n",
    "    sl = transicion(params::Parametros,p)\n",
    "end"
   ]
  },
  {
   "cell_type": "code",
   "execution_count": null,
   "id": "9aa9533f",
   "metadata": {},
   "outputs": [],
   "source": []
  }
 ],
 "metadata": {
  "kernelspec": {
   "display_name": "Julia 1.8.5",
   "language": "julia",
   "name": "julia-1.8"
  },
  "language_info": {
   "file_extension": ".jl",
   "mimetype": "application/julia",
   "name": "julia",
   "version": "1.8.5"
  }
 },
 "nbformat": 4,
 "nbformat_minor": 5
}
