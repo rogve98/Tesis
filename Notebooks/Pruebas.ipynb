{
 "cells": [
  {
   "cell_type": "markdown",
   "id": "c813dbb2",
   "metadata": {},
   "source": [
    "#  Pruebas"
   ]
  },
  {
   "cell_type": "code",
   "execution_count": 1,
   "id": "78df05f0",
   "metadata": {},
   "outputs": [
    {
     "data": {
      "application/vnd.webio.node+json": {
       "children": [],
       "instanceArgs": {
        "namespace": "html",
        "tag": "div"
       },
       "nodeType": "DOM",
       "props": {},
       "type": "node"
      },
      "text/html": [
       "<div style=\"padding: 1em; background-color: #f8d6da; border: 1px solid #f5c6cb; font-weight: bold;\">\n",
       "<p>The WebIO Jupyter extension was not detected. See the\n",
       "<a href=\"https://juliagizmos.github.io/WebIO.jl/latest/providers/ijulia/\" target=\"_blank\">\n",
       "    WebIO Jupyter integration documentation\n",
       "</a>\n",
       "for more information.\n",
       "</div>\n"
      ],
      "text/plain": [
       "WebIO._IJuliaInit()"
      ]
     },
     "metadata": {},
     "output_type": "display_data"
    },
    {
     "data": {
      "text/plain": [
       "circulo (generic function with 1 method)"
      ]
     },
     "execution_count": 1,
     "metadata": {},
     "output_type": "execute_result"
    }
   ],
   "source": [
    "include(\"../Codigo/tesis/main.jl\")"
   ]
  },
  {
   "cell_type": "markdown",
   "id": "415bce5a",
   "metadata": {},
   "source": [
    "push!(LOAD_PATH,\"/home/rogve98/Documentos/Tesis/Tesis/Código/Codigo/tesis\")"
   ]
  },
  {
   "cell_type": "markdown",
   "id": "085b9ac6",
   "metadata": {},
   "source": [
    "import main"
   ]
  },
  {
   "cell_type": "code",
   "execution_count": 3,
   "id": "93862c82",
   "metadata": {},
   "outputs": [
    {
     "data": {
      "text/plain": [
       "Parametros(100, 0.6, 0.2, [1.0, 1.0, 1.0, 1.0, 1.0, 1.0, 1.0, 1.0, 1.0, 1.0  …  1.0, 1.0, 1.0, 1.0, 1.0, 1.0, 1.0, 1.0, 1.0, 1.0], 0, 50, 0.01, [2.0, 2.0, 2.0, 2.0, 2.0, 2.0, 2.0, 2.0, 2.0, 2.0  …  2.0, 2.0, 2.0, 2.0, 2.0, 2.0, 2.0, 2.0, 2.0, 2.0], [5.0, 5.0, 5.0, 5.0, 5.0, 5.0, 5.0, 5.0, 5.0, 5.0  …  5.0, 5.0, 5.0, 5.0, 5.0, 5.0, 5.0, 5.0, 5.0, 5.0])"
      ]
     },
     "execution_count": 3,
     "metadata": {},
     "output_type": "execute_result"
    }
   ],
   "source": [
    "#PARÁMETROS\n",
    "N = 100\n",
    "x0 = ones(N)\n",
    "t0 = 0\n",
    "tf = 50\n",
    "h = 0.01\n",
    "σ = 0.6\n",
    "p = 0.2\n",
    "r = 2*ones(N)\n",
    "K = 5*ones(N)\n",
    "params = Parametros(N::Int,σ::Float64,p::Float64,x0::Vector,t0::Int,tf::Int,h::Float64,r::Vector,K::Vector)"
   ]
  },
  {
   "cell_type": "code",
   "execution_count": null,
   "id": "096556c2",
   "metadata": {},
   "outputs": [],
   "source": [
    "s = poblacionesLK(params)"
   ]
  },
  {
   "cell_type": "code",
   "execution_count": null,
   "id": "b0908e19",
   "metadata": {},
   "outputs": [],
   "source": [
    "adjacency_matrix(s.g)"
   ]
  },
  {
   "cell_type": "code",
   "execution_count": null,
   "id": "1a60b76c",
   "metadata": {},
   "outputs": [],
   "source": [
    "esEstable(s.rk4)"
   ]
  },
  {
   "cell_type": "code",
   "execution_count": null,
   "id": "88ba8a32",
   "metadata": {},
   "outputs": [],
   "source": [
    "issymmetric(adjacency_matrix(s.g))"
   ]
  },
  {
   "cell_type": "code",
   "execution_count": null,
   "id": "fad59759",
   "metadata": {},
   "outputs": [],
   "source": [
    "figura = plot()\n",
    "\n",
    "for i in 1:100\n",
    "    plot!(figura, s.t, s.rk4[:,i], label=\"\")\n",
    "end\n",
    "\n",
    "display(figura)"
   ]
  },
  {
   "cell_type": "code",
   "execution_count": null,
   "id": "2708ccbe",
   "metadata": {},
   "outputs": [],
   "source": [
    "gplot(s.g)"
   ]
  },
  {
   "cell_type": "code",
   "execution_count": null,
   "id": "a1148768",
   "metadata": {},
   "outputs": [],
   "source": [
    "issymmetric(s.g)"
   ]
  },
  {
   "cell_type": "code",
   "execution_count": null,
   "id": "bab5902f",
   "metadata": {},
   "outputs": [],
   "source": [
    "adjacency_matrix(s.g)"
   ]
  },
  {
   "cell_type": "code",
   "execution_count": null,
   "id": "242307a3",
   "metadata": {},
   "outputs": [],
   "source": [
    "G = redAleatoria(100,0.2)\n",
    "issymmetric(G)"
   ]
  },
  {
   "cell_type": "code",
   "execution_count": null,
   "id": "f0e27c9a",
   "metadata": {},
   "outputs": [],
   "source": [
    "collect(enlacesAleatorios(5,0.8))"
   ]
  },
  {
   "cell_type": "code",
   "execution_count": null,
   "id": "c251c046",
   "metadata": {},
   "outputs": [],
   "source": [
    "g = DiGraph(5)\n",
    "enlaces = collect(enlacesAleatorios(5,0.8))\n",
    "    for i in 1:length(enlaces)\n",
    "        add_edge!(g,enlaces[i][1],enlaces[i][2])\n",
    "    end"
   ]
  },
  {
   "cell_type": "code",
   "execution_count": null,
   "id": "671f7e52",
   "metadata": {},
   "outputs": [],
   "source": [
    "gplot(g)"
   ]
  },
  {
   "cell_type": "code",
   "execution_count": null,
   "id": "05eec9d1",
   "metadata": {},
   "outputs": [],
   "source": [
    "adjacency_matrix(g)"
   ]
  },
  {
   "cell_type": "code",
   "execution_count": null,
   "id": "9e5d1b2d",
   "metadata": {},
   "outputs": [],
   "source": []
  },
  {
   "cell_type": "code",
   "execution_count": null,
   "id": "be30b7ea",
   "metadata": {},
   "outputs": [],
   "source": [
    "E = Inteacciones(params,s)"
   ]
  },
  {
   "cell_type": "code",
   "execution_count": null,
   "id": "e6616854",
   "metadata": {},
   "outputs": [],
   "source": [
    "J = Jacobiano(E)"
   ]
  },
  {
   "cell_type": "code",
   "execution_count": null,
   "id": "8dc3413e",
   "metadata": {},
   "outputs": [],
   "source": [
    "ev1 = eigvals(J)"
   ]
  },
  {
   "cell_type": "code",
   "execution_count": null,
   "id": "5841940a",
   "metadata": {},
   "outputs": [],
   "source": [
    "r = sqrt(params.N*params.p)\n",
    "scatter(real(ev1),imag(ev1))\n",
    "plot!(circulo(-7.5,0,7.5),seriestype=:shape,\n",
    "    lw=0.5,\n",
    "    c = :blue,\n",
    "    linecolor = :black,\n",
    "    legend = false,\n",
    "    fillalpha = 0.2,\n",
    "    aspect_ratio = 1\n",
    ")"
   ]
  },
  {
   "cell_type": "code",
   "execution_count": null,
   "id": "e436a67e",
   "metadata": {},
   "outputs": [],
   "source": [
    "M = interacciones(params.N,params.p,params.σ,1)"
   ]
  },
  {
   "cell_type": "code",
   "execution_count": null,
   "id": "d0323920",
   "metadata": {},
   "outputs": [],
   "source": []
  },
  {
   "cell_type": "code",
   "execution_count": null,
   "id": "112c67cd",
   "metadata": {},
   "outputs": [],
   "source": []
  },
  {
   "cell_type": "code",
   "execution_count": null,
   "id": "1f504a30",
   "metadata": {},
   "outputs": [],
   "source": [
    "p = range(0, stop = 1, length = 50)\n",
    "@time begin \n",
    "    sl = transicion(params::Parametros,p)\n",
    "end"
   ]
  },
  {
   "cell_type": "code",
   "execution_count": null,
   "id": "9aa9533f",
   "metadata": {},
   "outputs": [],
   "source": [
    "plot(p,sl,label=\"\")"
   ]
  },
  {
   "cell_type": "code",
   "execution_count": null,
   "id": "266fdd69",
   "metadata": {},
   "outputs": [],
   "source": []
  },
  {
   "cell_type": "code",
   "execution_count": null,
   "id": "79d6f541",
   "metadata": {},
   "outputs": [],
   "source": []
  },
  {
   "cell_type": "code",
   "execution_count": null,
   "id": "4025a221",
   "metadata": {},
   "outputs": [],
   "source": [
    "enlaces_i = collect(enlacesAleatorios(10,0.5))\n",
    "enlaces_j = collect(enlacesAleatorios(10,0.5))    \n",
    "while length(enlaces_j)!=length(enlaces_i)\n",
    "    enlaces_j = collect(enlacesAleatorios(10,0.5))\n",
    "end    \n",
    "println(length(enlaces_i))\n",
    "println(length(enlaces_j))"
   ]
  },
  {
   "cell_type": "code",
   "execution_count": null,
   "id": "adc00384",
   "metadata": {},
   "outputs": [],
   "source": [
    "function redAleatoria(N,p,red::String)\n",
    "    if red == \"dirigida\"\n",
    "        g = DiGraph(N)\n",
    "        enlaces_i = collect(enlacesAleatorios(N,p))\n",
    "        enlaces_j = collect(enlacesAleatorios(N,p))\n",
    "        while length(enlaces_j)!=length(enlaces_i)\n",
    "            enlaces_j = collect(enlacesAleatorios(N,p))\n",
    "        end   \n",
    "        for i in 1:length(enlaces_i)\n",
    "            add_edge!(g,enlaces_i[i][1],enlaces_i[i][2])\n",
    "            add_edge!(g,enlaces_j[i][2],enlaces_j[i][1])\n",
    "        end\n",
    "        return g\n",
    "    elseif red == \"no dirigida\"\n",
    "        g = Graph(N)\n",
    "        enlaces = collect(enlacesAleatorios(N,p))\n",
    "        for i in 1:length(enlaces)\n",
    "            add_edge!(g,enlaces[i][1],enlaces[i][2])\n",
    "        end\n",
    "        return g\n",
    "    end\n",
    "end"
   ]
  },
  {
   "cell_type": "code",
   "execution_count": null,
   "id": "5837bf0a",
   "metadata": {},
   "outputs": [],
   "source": [
    "g = redAleatoria(50,0.25,\"dirigida\")\n",
    "g.ne"
   ]
  }
 ],
 "metadata": {
  "kernelspec": {
   "display_name": "Julia 1.8.5",
   "language": "julia",
   "name": "julia-1.8"
  },
  "language_info": {
   "file_extension": ".jl",
   "mimetype": "application/julia",
   "name": "julia",
   "version": "1.8.5"
  }
 },
 "nbformat": 4,
 "nbformat_minor": 5
}
