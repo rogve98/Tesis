{
 "cells": [
  {
   "cell_type": "markdown",
   "id": "c813dbb2",
   "metadata": {},
   "source": [
    "#  Pruebas"
   ]
  },
  {
   "cell_type": "code",
   "execution_count": null,
   "id": "78df05f0",
   "metadata": {},
   "outputs": [],
   "source": [
    "include(\"../Codigo/tesis/main.jl\")"
   ]
  },
  {
   "cell_type": "markdown",
   "id": "415bce5a",
   "metadata": {},
   "source": [
    "push!(LOAD_PATH,\"/home/rogve98/Documentos/Tesis/Tesis/Código/Codigo/tesis\")"
   ]
  },
  {
   "cell_type": "markdown",
   "id": "085b9ac6",
   "metadata": {},
   "source": [
    "import main"
   ]
  },
  {
   "cell_type": "code",
   "execution_count": null,
   "id": "93862c82",
   "metadata": {},
   "outputs": [],
   "source": [
    "#PARÁMETROS\n",
    "N = 100\n",
    "x0 = ones(N)\n",
    "t0 = 0\n",
    "tf = 50\n",
    "h = 0.01\n",
    "σ = 0.2\n",
    "p = .2\n",
    "r = 2*ones(N)\n",
    "K = 5*ones(N)\n",
    "red = \"dirigida\"\n",
    "params = Parametros(N::Int,σ::Float64,p::Float64,x0::Vector,t0::Int,tf::Int,h::Float64,r::Vector,K::Vector,red)"
   ]
  },
  {
   "cell_type": "code",
   "execution_count": null,
   "id": "096556c2",
   "metadata": {},
   "outputs": [],
   "source": [
    "s = poblacionesLK(params)"
   ]
  },
  {
   "cell_type": "code",
   "execution_count": null,
   "id": "1a60b76c",
   "metadata": {},
   "outputs": [],
   "source": [
    "esEstable(s.rk4)"
   ]
  },
  {
   "cell_type": "code",
   "execution_count": null,
   "id": "88ba8a32",
   "metadata": {},
   "outputs": [],
   "source": [
    "issymmetric(adjacency_matrix(s.g))"
   ]
  },
  {
   "cell_type": "code",
   "execution_count": null,
   "id": "208542fc",
   "metadata": {},
   "outputs": [],
   "source": [
    "s.A"
   ]
  },
  {
   "cell_type": "code",
   "execution_count": null,
   "id": "fad59759",
   "metadata": {},
   "outputs": [],
   "source": [
    "figura = plot()\n",
    "\n",
    "for i in 1:N\n",
    "    plot!(figura, s.t, s.rk4[:,i], label=\"\")\n",
    "end\n",
    "\n",
    "display(figura)"
   ]
  },
  {
   "cell_type": "code",
   "execution_count": null,
   "id": "2708ccbe",
   "metadata": {},
   "outputs": [],
   "source": [
    "gplot(s.g)"
   ]
  },
  {
   "cell_type": "code",
   "execution_count": null,
   "id": "2ec6f7d6",
   "metadata": {},
   "outputs": [],
   "source": [
    "s.A"
   ]
  },
  {
   "cell_type": "code",
   "execution_count": null,
   "id": "642af121",
   "metadata": {},
   "outputs": [],
   "source": [
    "A = s.A\n",
    "for i in 1:100\n",
    "    for j in 1:100\n",
    "        if A[i,j] > 0\n",
    "            A[i,j] = 2\n",
    "        elseif A[i,j] < 0\n",
    "            A[i,j] = -1\n",
    "        end\n",
    "    end\n",
    "    A[i,i] = 1\n",
    "end\n",
    "heatmap(A)"
   ]
  },
  {
   "cell_type": "code",
   "execution_count": null,
   "id": "a65a6125",
   "metadata": {},
   "outputs": [],
   "source": []
  },
  {
   "cell_type": "code",
   "execution_count": null,
   "id": "fbcf4cfc",
   "metadata": {},
   "outputs": [],
   "source": []
  },
  {
   "cell_type": "code",
   "execution_count": null,
   "id": "6b0d7cab",
   "metadata": {},
   "outputs": [],
   "source": []
  },
  {
   "cell_type": "code",
   "execution_count": null,
   "id": "c251c046",
   "metadata": {},
   "outputs": [],
   "source": [
    "g = DiGraph(5)\n",
    "enlaces = collect(enlacesAleatorios(5,0.8))\n",
    "    for i in 1:length(enlaces)\n",
    "        add_edge!(g,enlaces[i][1],enlaces[i][2])\n",
    "    end"
   ]
  },
  {
   "cell_type": "code",
   "execution_count": null,
   "id": "671f7e52",
   "metadata": {},
   "outputs": [],
   "source": [
    "gplot(g)"
   ]
  },
  {
   "cell_type": "code",
   "execution_count": null,
   "id": "05eec9d1",
   "metadata": {},
   "outputs": [],
   "source": [
    "adjacency_matrix(g)"
   ]
  },
  {
   "cell_type": "code",
   "execution_count": null,
   "id": "9e5d1b2d",
   "metadata": {},
   "outputs": [],
   "source": []
  },
  {
   "cell_type": "code",
   "execution_count": null,
   "id": "be30b7ea",
   "metadata": {},
   "outputs": [],
   "source": [
    "E = Inteacciones(params,s)"
   ]
  },
  {
   "cell_type": "code",
   "execution_count": null,
   "id": "e6616854",
   "metadata": {},
   "outputs": [],
   "source": [
    "J = Jacobiano(E)"
   ]
  },
  {
   "cell_type": "code",
   "execution_count": null,
   "id": "8dc3413e",
   "metadata": {},
   "outputs": [],
   "source": [
    "ev1 = eigvals(J)"
   ]
  },
  {
   "cell_type": "code",
   "execution_count": null,
   "id": "5841940a",
   "metadata": {},
   "outputs": [],
   "source": [
    "r = sqrt(params.N*params.p)\n",
    "scatter(real(ev1),imag(ev1))\n",
    "plot!(circulo(-7.5,0,7.5),seriestype=:shape,\n",
    "    lw=0.5,\n",
    "    c = :blue,\n",
    "    linecolor = :black,\n",
    "    legend = false,\n",
    "    fillalpha = 0.2,\n",
    "    aspect_ratio = 1\n",
    ")"
   ]
  },
  {
   "cell_type": "code",
   "execution_count": null,
   "id": "e436a67e",
   "metadata": {},
   "outputs": [],
   "source": [
    "M = interacciones(params.N,params.p,params.σ,1)"
   ]
  },
  {
   "cell_type": "code",
   "execution_count": null,
   "id": "d0323920",
   "metadata": {},
   "outputs": [],
   "source": []
  },
  {
   "cell_type": "code",
   "execution_count": null,
   "id": "112c67cd",
   "metadata": {},
   "outputs": [],
   "source": [
    "18054/3600"
   ]
  },
  {
   "cell_type": "code",
   "execution_count": null,
   "id": "1f504a30",
   "metadata": {},
   "outputs": [],
   "source": [
    "p = range(0, stop = 1, length = 50)\n",
    "@time begin \n",
    "    sl = transicion(params::Parametros,p)\n",
    "end"
   ]
  },
  {
   "cell_type": "code",
   "execution_count": null,
   "id": "9aa9533f",
   "metadata": {},
   "outputs": [],
   "source": [
    "plot(p,sl,label=\"\")"
   ]
  },
  {
   "cell_type": "code",
   "execution_count": null,
   "id": "96398cc6",
   "metadata": {
    "scrolled": true
   },
   "outputs": [],
   "source": [
    "s1200 = DataFrame(CSV.File(\"Datos dirigida 02-50 lin.csv\",header=false))\n",
    "s1200 = s1200[!,2]"
   ]
  },
  {
   "cell_type": "code",
   "execution_count": null,
   "id": "3ca4a6e6",
   "metadata": {},
   "outputs": [],
   "source": [
    "s1400 = []\n",
    "for i in 1:50\n",
    "    push!(s1400,s1200[i]+sl[i])\n",
    "end\n",
    "s1400"
   ]
  },
  {
   "cell_type": "code",
   "execution_count": null,
   "id": "266fdd69",
   "metadata": {},
   "outputs": [],
   "source": [
    "writedlm(\"Datos dirigida 02-50 lin.csv\",[p s1400])"
   ]
  },
  {
   "cell_type": "code",
   "execution_count": null,
   "id": "79d6f541",
   "metadata": {},
   "outputs": [],
   "source": [
    "plot(s1200)"
   ]
  },
  {
   "cell_type": "code",
   "execution_count": null,
   "id": "98691ee4",
   "metadata": {},
   "outputs": [],
   "source": []
  },
  {
   "cell_type": "code",
   "execution_count": null,
   "id": "4ff08e6a",
   "metadata": {},
   "outputs": [],
   "source": []
  },
  {
   "cell_type": "code",
   "execution_count": null,
   "id": "0fcc271c",
   "metadata": {},
   "outputs": [],
   "source": []
  },
  {
   "cell_type": "code",
   "execution_count": null,
   "id": "4025a221",
   "metadata": {},
   "outputs": [],
   "source": [
    "enlaces_i = collect(enlacesAleatorios(10,0.5))\n",
    "enlaces_j = collect(enlacesAleatorios(10,0.5))    \n",
    "while length(enlaces_j)!=length(enlaces_i)\n",
    "    enlaces_j = collect(enlacesAleatorios(10,0.5))\n",
    "end    \n",
    "println(length(enlaces_i))\n",
    "println(length(enlaces_j))"
   ]
  },
  {
   "cell_type": "code",
   "execution_count": null,
   "id": "adc00384",
   "metadata": {},
   "outputs": [],
   "source": [
    "function redAleatoria(N,p,red::String)\n",
    "    if red == \"dirigida\"\n",
    "        g = DiGraph(N)\n",
    "        enlaces_i = collect(enlacesAleatorios(N,p))\n",
    "        enlaces_j = collect(enlacesAleatorios(N,p))\n",
    "        while length(enlaces_j)!=length(enlaces_i)\n",
    "            enlaces_j = collect(enlacesAleatorios(N,p))\n",
    "        end   \n",
    "        for i in 1:length(enlaces_i)\n",
    "            add_edge!(g,enlaces_i[i][1],enlaces_i[i][2])\n",
    "            add_edge!(g,enlaces_j[i][2],enlaces_j[i][1])\n",
    "        end\n",
    "        return g\n",
    "    elseif red == \"no dirigida\"\n",
    "        g = Graph(N)\n",
    "        enlaces = collect(enlacesAleatorios(N,p))\n",
    "        for i in 1:length(enlaces)\n",
    "            add_edge!(g,enlaces[i][1],enlaces[i][2])\n",
    "        end\n",
    "        return g\n",
    "    end\n",
    "end"
   ]
  },
  {
   "cell_type": "code",
   "execution_count": null,
   "id": "5837bf0a",
   "metadata": {},
   "outputs": [],
   "source": [
    "g = redAleatoria(50,0.25,\"dirigida\")\n",
    "g.ne"
   ]
  },
  {
   "cell_type": "code",
   "execution_count": null,
   "id": "08eb55d0",
   "metadata": {},
   "outputs": [],
   "source": [
    "gplot(barabasi_albert(100,3)[1])"
   ]
  },
  {
   "cell_type": "code",
   "execution_count": null,
   "id": "4742e5d1",
   "metadata": {},
   "outputs": [],
   "source": [
    "sb = LKBarabasi(params,50)"
   ]
  },
  {
   "cell_type": "code",
   "execution_count": null,
   "id": "c6c49f6d",
   "metadata": {},
   "outputs": [],
   "source": [
    "gplot(sb.g)"
   ]
  },
  {
   "cell_type": "code",
   "execution_count": null,
   "id": "81920230",
   "metadata": {},
   "outputs": [],
   "source": [
    "ne(sb.g)"
   ]
  },
  {
   "cell_type": "code",
   "execution_count": null,
   "id": "d1ff6262",
   "metadata": {},
   "outputs": [],
   "source": [
    "figura = plot()\n",
    "\n",
    "for i in 1:100\n",
    "    plot!(figura, sb.t, sb.rk4[:,i], label=\"\")\n",
    "end\n",
    "display(figura)"
   ]
  },
  {
   "cell_type": "code",
   "execution_count": null,
   "id": "19978941",
   "metadata": {},
   "outputs": [],
   "source": [
    "ne(redAleatoria(100,1,\"no dirigida\"))"
   ]
  },
  {
   "cell_type": "code",
   "execution_count": null,
   "id": "9e527c72",
   "metadata": {},
   "outputs": [],
   "source": [
    "m = Int.(range(1, stop = 100, length = 100))\n",
    "@time begin \n",
    "    sl = transicionB(params::Parametros,m)\n",
    "end"
   ]
  },
  {
   "cell_type": "code",
   "execution_count": null,
   "id": "a70fc5f3",
   "metadata": {},
   "outputs": [],
   "source": [
    "plot(m,sl,label=\"\")\n",
    "scatter!(m,sl,markersize=2,label=\"\")"
   ]
  },
  {
   "cell_type": "code",
   "execution_count": null,
   "id": "c49a21d6",
   "metadata": {},
   "outputs": [],
   "source": [
    "s100 = DataFrame(CSV.File(\"Datos barabasi 02-100 lin.csv\",header=false))\n",
    "s100 = s100[!,2]"
   ]
  },
  {
   "cell_type": "code",
   "execution_count": null,
   "id": "12c3bee4",
   "metadata": {},
   "outputs": [],
   "source": [
    "s300 = []\n",
    "for i in 1:100\n",
    "    push!(s300,s100[i]+sl[i])\n",
    "end\n",
    "s300"
   ]
  },
  {
   "cell_type": "code",
   "execution_count": null,
   "id": "cb0d6e82",
   "metadata": {},
   "outputs": [],
   "source": [
    "using DelimitedFiles"
   ]
  },
  {
   "cell_type": "code",
   "execution_count": null,
   "id": "7b9b25ab",
   "metadata": {},
   "outputs": [],
   "source": [
    "writedlm(\"Datos barabasi 02-100 lin.csv\",[m s300])"
   ]
  },
  {
   "cell_type": "code",
   "execution_count": null,
   "id": "08378989",
   "metadata": {},
   "outputs": [],
   "source": [
    "(1983/3600)*2"
   ]
  },
  {
   "cell_type": "code",
   "execution_count": null,
   "id": "f08f4af5",
   "metadata": {},
   "outputs": [],
   "source": [
    "t,sol = pruebaDiagCeros(params)"
   ]
  },
  {
   "cell_type": "code",
   "execution_count": null,
   "id": "19759a60",
   "metadata": {},
   "outputs": [],
   "source": [
    "sol[:,1][2100:2220]\n",
    "sol[:,1][2100:2200]"
   ]
  },
  {
   "cell_type": "code",
   "execution_count": null,
   "id": "e4760b06",
   "metadata": {},
   "outputs": [],
   "source": [
    "scatter(t,sol[:,1])\n",
    "scatter!(t,sol[:,2])"
   ]
  },
  {
   "cell_type": "code",
   "execution_count": null,
   "id": "8664f85d",
   "metadata": {},
   "outputs": [],
   "source": [
    "s = poblacionesLK(params)"
   ]
  },
  {
   "cell_type": "code",
   "execution_count": null,
   "id": "dcb42d71",
   "metadata": {},
   "outputs": [],
   "source": [
    "s.rk4"
   ]
  },
  {
   "cell_type": "code",
   "execution_count": null,
   "id": "a5c591cc",
   "metadata": {},
   "outputs": [],
   "source": [
    "plot(s.t,s.rk4[:,1])\n",
    "plot!(s.t,s.rk4[:,2])"
   ]
  },
  {
   "cell_type": "code",
   "execution_count": null,
   "id": "ab98396b",
   "metadata": {},
   "outputs": [],
   "source": [
    "sE = DataFrame(CSV.File(\"Datos no dirigida 02-100 lin.csv\",header=false))"
   ]
  },
  {
   "cell_type": "code",
   "execution_count": null,
   "id": "28270940",
   "metadata": {},
   "outputs": [],
   "source": [
    "plot(sE.Column1,sE.Column2)\n",
    "scatter!(sE.Column1,sE.Column2)"
   ]
  },
  {
   "cell_type": "code",
   "execution_count": null,
   "id": "38d4439f",
   "metadata": {},
   "outputs": [],
   "source": []
  }
 ],
 "metadata": {
  "kernelspec": {
   "display_name": "Julia 1.8.5",
   "language": "julia",
   "name": "julia-1.8"
  },
  "language_info": {
   "file_extension": ".jl",
   "mimetype": "application/julia",
   "name": "julia",
   "version": "1.8.5"
  }
 },
 "nbformat": 4,
 "nbformat_minor": 5
}
